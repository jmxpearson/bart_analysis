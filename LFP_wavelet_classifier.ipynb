{
 "cells": [
  {
   "cell_type": "markdown",
   "metadata": {},
   "source": [
    "# Can we use local field potentials to predict trial stops?"
   ]
  },
  {
   "cell_type": "code",
   "execution_count": 1,
   "metadata": {
    "collapsed": false
   },
   "outputs": [],
   "source": [
    "import numpy as np\n",
    "import pandas as pd\n",
    "import physutils\n",
    "import dbio\n",
    "import os\n",
    "import pywt\n",
    "from __future__ import division\n",
    "import matplotlib.pyplot as plt\n",
    "\n",
    "%matplotlib inline\n",
    "plt.style.use('ggplot')\n",
    "np.random.seed(12345)"
   ]
  },
  {
   "cell_type": "markdown",
   "metadata": {},
   "source": [
    "## Load Data"
   ]
  },
  {
   "cell_type": "code",
   "execution_count": 2,
   "metadata": {
    "collapsed": false
   },
   "outputs": [],
   "source": [
    "# which patient, dataset to plot\n",
    "dtup = 17, 2"
   ]
  },
  {
   "cell_type": "code",
   "execution_count": 3,
   "metadata": {
    "collapsed": false
   },
   "outputs": [],
   "source": [
    "# load data\n",
    "dbname = os.path.expanduser('data/bart.hdf5')\n",
    "lfpraw = dbio.fetch_all_such_LFP(dbname, *dtup)"
   ]
  },
  {
   "cell_type": "markdown",
   "metadata": {},
   "source": [
    "## Preprocess Data"
   ]
  },
  {
   "cell_type": "code",
   "execution_count": 4,
   "metadata": {
    "collapsed": false
   },
   "outputs": [],
   "source": [
    "lfp = lfpraw.demean()"
   ]
  },
  {
   "cell_type": "code",
   "execution_count": 5,
   "metadata": {
    "collapsed": false
   },
   "outputs": [],
   "source": [
    "# decimate to 40 Hz, censor, and z-score each channel\n",
    "lfp = lfp.decimate(5).censor().zscore()"
   ]
  },
  {
   "cell_type": "code",
   "execution_count": 6,
   "metadata": {
    "collapsed": false
   },
   "outputs": [],
   "source": [
    "# get events\n",
    "evt = dbio.fetch(dbname, 'events', *dtup)\n",
    "stops = evt['banked'].dropna()\n",
    "pops = evt['popped'].dropna()\n",
    "starts = evt['start inflating']\n",
    "if 'is_control' in evt.columns:\n",
    "    stops_free = evt.query('is_control == False')['banked'].dropna()\n",
    "    stops_control = evt.query('is_control == True')['banked'].dropna()\n",
    "    stops_rewarded = evt.query('trial_type != 4')['banked'].dropna()\n",
    "    stops_unrewarded = evt.query('trial_type == 4')['banked'].dropna()\n",
    "else:\n",
    "    stops_free = stops\n",
    "    stops_rewarded = stops"
   ]
  },
  {
   "cell_type": "markdown",
   "metadata": {},
   "source": [
    "## Get True Positives"
   ]
  },
  {
   "cell_type": "code",
   "execution_count": 7,
   "metadata": {
    "collapsed": false
   },
   "outputs": [],
   "source": [
    "truepos = pd.DataFrame(stops_free.values, columns=['time'])\n",
    "truepos['outcome'] = 1"
   ]
  },
  {
   "cell_type": "markdown",
   "metadata": {},
   "source": [
    "## Get True Negatives"
   ]
  },
  {
   "cell_type": "markdown",
   "metadata": {},
   "source": [
    "We will choose as true negatives an equal number of random times that are not within a fixed interval of any true positives."
   ]
  },
  {
   "cell_type": "code",
   "execution_count": 8,
   "metadata": {
    "collapsed": false
   },
   "outputs": [],
   "source": [
    "def within_range(test_value, anchor_list, radius_tuple):\n",
    "    # return true when test_value is not within a radius tuple\n",
    "    # of any value in anchor_list \n",
    "    # NOTE: both elements of radius_tuple must be positive!\n",
    "\n",
    "    dist = test_value - np.array(anchor_list)\n",
    "    within_range = np.logical_and(dist > -radius_tuple[0],\n",
    "        dist < radius_tuple[1]) \n",
    "    return np.any(within_range)"
   ]
  },
  {
   "cell_type": "code",
   "execution_count": 9,
   "metadata": {
    "collapsed": false
   },
   "outputs": [],
   "source": [
    "Tpre = 2  # time before stop to exclude\n",
    "Tpost = 1.5  # time after stop to exclude\n",
    "dt = (1. / lfp.meta['sr']).round(3) "
   ]
  },
  {
   "cell_type": "code",
   "execution_count": 10,
   "metadata": {
    "collapsed": false
   },
   "outputs": [],
   "source": [
    "maxT = lfp.index[-1]\n",
    "Nrand = truepos.shape[0]  # number to generate: same as number of true positives\n",
    "Ncand = 2000  # number to filter down to Nrand\n",
    "candidates = np.random.rand(Ncand) * (maxT - Tpre) + Tpre\n",
    "candidates = np.around(candidates / dt) * dt  # round to nearest dt\n",
    "candidates = np.unique(candidates)\n",
    "np.random.shuffle(candidates)\n",
    "rand_times = filter(lambda x: ~within_range(x, truepos['time'], \n",
    "                                            (Tpre, Tpost)), candidates)[:Nrand]\n",
    "trueneg = pd.DataFrame(rand_times, columns=['time'])\n",
    "trueneg['outcome'] = 0"
   ]
  },
  {
   "cell_type": "markdown",
   "metadata": {},
   "source": [
    "## Concatenate true and false positives together to form training labels:"
   ]
  },
  {
   "cell_type": "code",
   "execution_count": 11,
   "metadata": {
    "collapsed": false
   },
   "outputs": [],
   "source": [
    "allevt = pd.concat([truepos, trueneg])\n",
    "allevt = allevt.set_index('time')"
   ]
  },
  {
   "cell_type": "markdown",
   "metadata": {},
   "source": [
    "## Grab signal around each event, decompose in wavelet basis"
   ]
  },
  {
   "cell_type": "code",
   "execution_count": 12,
   "metadata": {
    "collapsed": false
   },
   "outputs": [],
   "source": [
    "chunksize = 2   # length of sample before event (in s)\n",
    "chunks = lfp.evtsplit(allevt.index, -chunksize, 0)"
   ]
  },
  {
   "cell_type": "code",
   "execution_count": 13,
   "metadata": {
    "collapsed": false
   },
   "outputs": [],
   "source": [
    "# make function to do wavelet decomposition\n",
    "wname = 'db1'\n",
    "def wav_decomp(x):\n",
    "    cA, cD = pywt.dwt(x, wname)\n",
    "    return np.concatenate([cA, cD])\n",
    "\n",
    "def df_wav_decomp(df):\n",
    "    pieces = []\n",
    "    for col in df:\n",
    "        pieces.append(pd.DataFrame(wav_decomp(df[col]), columns=[col]))\n",
    "    return pd.concat(pieces, axis=1)\n",
    "    \n",
    "def df_wav_recons(df):\n",
    "    pieces = []\n",
    "    for col in df:\n",
    "        x = df[col]\n",
    "        mid = x.size // 2\n",
    "        cA = x[:mid]\n",
    "        cD = x[mid:]\n",
    "        pieces.append(pd.DataFrame(pywt.idwt(cA, cD, wname), columns=[col]))\n",
    "    return pd.concat(pieces, axis=1)"
   ]
  },
  {
   "cell_type": "code",
   "execution_count": 14,
   "metadata": {
    "collapsed": false
   },
   "outputs": [],
   "source": [
    "# convert data to wavelet basis\n",
    "wavdat = chunks.groupby(level=0).apply(df_wav_decomp)"
   ]
  },
  {
   "cell_type": "code",
   "execution_count": 15,
   "metadata": {
    "collapsed": false
   },
   "outputs": [],
   "source": [
    "# unstack index to get one row per trial\n",
    "wavfeatures = wavdat.unstack()\n",
    "trainset = pd.concat([allevt.reset_index(drop=True), wavfeatures], axis=1)\n",
    "trainset = trainset.dropna()"
   ]
  },
  {
   "cell_type": "markdown",
   "metadata": {},
   "source": [
    "## Run sparse regression in R"
   ]
  },
  {
   "cell_type": "code",
   "execution_count": 16,
   "metadata": {
    "collapsed": false
   },
   "outputs": [],
   "source": [
    "%load_ext rpy2.ipython"
   ]
  },
  {
   "cell_type": "code",
   "execution_count": 17,
   "metadata": {
    "collapsed": false
   },
   "outputs": [],
   "source": [
    "%%R\n",
    "set.seed(77654)\n",
    "suppressMessages(library(glmnet))\n",
    "source('glm_helpers.R')"
   ]
  },
  {
   "cell_type": "code",
   "execution_count": 18,
   "metadata": {
    "collapsed": false
   },
   "outputs": [],
   "source": [
    "%Rpush trainset\n",
    "%R fitobj <- run_glm(data.matrix(trainset), measure='auc');"
   ]
  },
  {
   "cell_type": "code",
   "execution_count": 19,
   "metadata": {
    "collapsed": false
   },
   "outputs": [],
   "source": [
    "%%R -o auc\n",
    "source('helpers.R')\n",
    "\n",
    "# get performance\n",
    "glmobj <- fitobj$glmobj\n",
    "min.ind <- which(glmobj$lambda == glmobj$lambda.min)\n",
    "auc <- glmobj$cvm[min.ind]"
   ]
  },
  {
   "cell_type": "code",
   "execution_count": 20,
   "metadata": {
    "collapsed": false
   },
   "outputs": [],
   "source": [
    "%%R -o coef_grid\n",
    "coef_grid <- fitobj$beta"
   ]
  },
  {
   "cell_type": "code",
   "execution_count": 21,
   "metadata": {
    "collapsed": false
   },
   "outputs": [
    {
     "data": {
      "text/plain": [
       "array([ 0.        ,  0.        ,  0.        , ...,  0.        ,\n",
       "        0.28696987,  0.        ])"
      ]
     },
     "execution_count": 21,
     "metadata": {},
     "output_type": "execute_result"
    }
   ],
   "source": [
    "coef_grid"
   ]
  },
  {
   "cell_type": "code",
   "execution_count": 22,
   "metadata": {
    "collapsed": false
   },
   "outputs": [
    {
     "data": {
      "image/png": "[encoded data removed]",
      "text/plain": [
       "<matplotlib.figure.Figure at 0x7f2b78492190>"
      ]
     },
     "metadata": {},
     "output_type": "display_data"
    }
   ],
   "source": [
    "nchan = lfp.shape[1]\n",
    "cg = pd.DataFrame(np.reshape(coef_grid, (nchan, -1)).T, columns=lfp.columns)\n",
    "plt.matshow(np.abs(cg.T), aspect='auto', cmap='gray');\n",
    "plt.colorbar();"
   ]
  },
  {
   "cell_type": "code",
   "execution_count": 23,
   "metadata": {
    "collapsed": false
   },
   "outputs": [],
   "source": [
    "# prepare to reconstruct\n",
    "def wav_reconstruct(x):\n",
    "    mid = x.size // 2\n",
    "    cA = x[:mid]\n",
    "    cD = x[mid:]\n",
    "    return pywt.idwt(cA, cD, wname)"
   ]
  },
  {
   "cell_type": "code",
   "execution_count": 24,
   "metadata": {
    "collapsed": false
   },
   "outputs": [],
   "source": [
    "filts = df_wav_recons(cg)"
   ]
  },
  {
   "cell_type": "code",
   "execution_count": 25,
   "metadata": {
    "collapsed": false
   },
   "outputs": [
    {
     "data": {
      "image/png": "[encoded data removed]",
      "text/plain": [
       "<matplotlib.figure.Figure at 0x7f2b6fb5dd50>"
      ]
     },
     "metadata": {},
     "output_type": "display_data"
    }
   ],
   "source": [
    "filts.plot(legend=False);"
   ]
  },
  {
   "cell_type": "code",
   "execution_count": null,
   "metadata": {
    "collapsed": false
   },
   "outputs": [],
   "source": []
  }
 ],
 "metadata": {
  "kernelspec": {
   "display_name": "Python 2",
   "language": "python",
   "name": "python2"
  },
  "language_info": {
   "codemirror_mode": {
    "name": "ipython",
    "version": 2
   },
   "file_extension": ".py",
   "mimetype": "text/x-python",
   "name": "python",
   "nbconvert_exporter": "python",
   "pygments_lexer": "ipython2",
   "version": "2.7.9"
  }
 },
 "nbformat": 4,
 "nbformat_minor": 0
}
