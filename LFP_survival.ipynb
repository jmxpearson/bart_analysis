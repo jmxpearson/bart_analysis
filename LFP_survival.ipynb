{
 "cells": [
  {
   "cell_type": "markdown",
   "metadata": {},
   "source": [
    "# Survival analysis with LFP spectral features\n",
    "\n",
    "### Stops are events, pops are censored"
   ]
  },
  {
   "cell_type": "code",
   "execution_count": 1,
   "metadata": {
    "collapsed": false
   },
   "outputs": [],
   "source": [
    "import numpy as np\n",
    "import pandas as pd\n",
    "import physutils\n",
    "import dbio\n",
    "import os\n",
    "from __future__ import division\n",
    "import matplotlib.pyplot as plt\n",
    "%matplotlib inline\n",
    "\n",
    "plt.style.use('ggplot')\n",
    "np.random.seed(123456)"
   ]
  },
  {
   "cell_type": "markdown",
   "metadata": {},
   "source": [
    "## Load Data"
   ]
  },
  {
   "cell_type": "code",
   "execution_count": 2,
   "metadata": {
    "collapsed": false
   },
   "outputs": [],
   "source": [
    "# which patient, dataset to plot\n",
    "dtup = 12, 1"
   ]
  },
  {
   "cell_type": "code",
   "execution_count": 3,
   "metadata": {
    "collapsed": false
   },
   "outputs": [],
   "source": [
    "# load data\n",
    "dbname = os.path.expanduser('data/bart.hdf5')\n",
    "lfpraw = dbio.fetch_all_such_LFP(dbname, *dtup)"
   ]
  },
  {
   "cell_type": "markdown",
   "metadata": {},
   "source": [
    "## Preprocess Data"
   ]
  },
  {
   "cell_type": "code",
   "execution_count": 4,
   "metadata": {
    "collapsed": false
   },
   "outputs": [],
   "source": [
    "# remove global mean across all channels at each time then set each channel to mean 0\n",
    "if lfpraw.shape[1] > 1:\n",
    "    lfpraw = lfpraw.demean_global()\n",
    "\n",
    "lfp = lfpraw.demean()    "
   ]
  },
  {
   "cell_type": "code",
   "execution_count": 5,
   "metadata": {
    "collapsed": false
   },
   "outputs": [],
   "source": [
    "filters = ['delta', 'theta', 'alpha', 'beta', 'gamma']\n",
    "lfp = lfp.bandlimit(filters)"
   ]
  },
  {
   "cell_type": "code",
   "execution_count": 6,
   "metadata": {
    "collapsed": false
   },
   "outputs": [],
   "source": [
    "# decimate to 40 Hz, get instantaneous power, censor, and z-score each channel\n",
    "# lfp = lfp.decimate(5).instpwr().censor().zscore()"
   ]
  },
  {
   "cell_type": "code",
   "execution_count": 7,
   "metadata": {
    "collapsed": false
   },
   "outputs": [],
   "source": [
    "# decimate to 10 Hz\n",
    "lfp = lfp.decimate(5).decimate(4).instpwr()"
   ]
  },
  {
   "cell_type": "code",
   "execution_count": 8,
   "metadata": {
    "collapsed": false
   },
   "outputs": [
    {
     "data": {
      "text/html": [
       "<div>\n",
       "<table border=\"1\" class=\"dataframe\">\n",
       "  <thead>\n",
       "    <tr style=\"text-align: right;\">\n",
       "      <th></th>\n",
       "      <th>start</th>\n",
       "      <th>trial_type</th>\n",
       "      <th>event</th>\n",
       "      <th>stop</th>\n",
       "    </tr>\n",
       "    <tr>\n",
       "      <th>trial</th>\n",
       "      <th></th>\n",
       "      <th></th>\n",
       "      <th></th>\n",
       "      <th></th>\n",
       "    </tr>\n",
       "  </thead>\n",
       "  <tbody>\n",
       "    <tr>\n",
       "      <th>0</th>\n",
       "      <td>17.999</td>\n",
       "      <td>1</td>\n",
       "      <td>1</td>\n",
       "      <td>26.455</td>\n",
       "    </tr>\n",
       "    <tr>\n",
       "      <th>1</th>\n",
       "      <td>32.879</td>\n",
       "      <td>1</td>\n",
       "      <td>0</td>\n",
       "      <td>40.688</td>\n",
       "    </tr>\n",
       "    <tr>\n",
       "      <th>2</th>\n",
       "      <td>43.654</td>\n",
       "      <td>2</td>\n",
       "      <td>1</td>\n",
       "      <td>47.340</td>\n",
       "    </tr>\n",
       "    <tr>\n",
       "      <th>3</th>\n",
       "      <td>50.531</td>\n",
       "      <td>1</td>\n",
       "      <td>1</td>\n",
       "      <td>59.901</td>\n",
       "    </tr>\n",
       "    <tr>\n",
       "      <th>4</th>\n",
       "      <td>64.754</td>\n",
       "      <td>1</td>\n",
       "      <td>0</td>\n",
       "      <td>72.825</td>\n",
       "    </tr>\n",
       "  </tbody>\n",
       "</table>\n",
       "</div>"
      ],
      "text/plain": [
       "        start  trial_type  event    stop\n",
       "trial                                   \n",
       "0      17.999           1      1  26.455\n",
       "1      32.879           1      0  40.688\n",
       "2      43.654           2      1  47.340\n",
       "3      50.531           1      1  59.901\n",
       "4      64.754           1      0  72.825"
      ]
     },
     "execution_count": 8,
     "metadata": {},
     "output_type": "execute_result"
    }
   ],
   "source": [
    "# get events\n",
    "evt = dbio.fetch(dbname, 'events', *dtup)\n",
    "cols = ['banked', 'popped', 'start inflating', 'trial_type']\n",
    "\n",
    "if 'is_control' in evt.columns:\n",
    "    evt_tmp = evt.query('is_control == False')[cols]\n",
    "else:\n",
    "    evt_tmp = evt.loc[:, cols]\n",
    "\n",
    "# add a binary column (1 = voluntary stop)    \n",
    "evt_tmp['event'] = np.isnan(evt_tmp['popped']).astype('int')\n",
    "\n",
    "# add a column for stop time (regardless of cause)\n",
    "evt_tmp['stop'] = evt.loc[:, ['banked', 'popped']].mean(axis=1)\n",
    "\n",
    "# drop unneeded columns\n",
    "evt_tmp = evt_tmp.drop(['banked', 'popped'], axis=1)\n",
    "evt_tmp = evt_tmp.rename(columns={'start inflating': 'start'})\n",
    "\n",
    "evt_tmp.head()"
   ]
  },
  {
   "cell_type": "markdown",
   "metadata": {},
   "source": [
    "## Remove unneeded data\n",
    "\n",
    "- take only non-control trials\n",
    "- get only time points between trial start and event (pop or stop)"
   ]
  },
  {
   "cell_type": "code",
   "execution_count": 18,
   "metadata": {
    "collapsed": false,
    "scrolled": false
   },
   "outputs": [],
   "source": [
    "chunks = []\n",
    "for trial, row in evt_tmp.iterrows():\n",
    "    start, stop = row['start'], row['stop']\n",
    "    this_chunk = lfp.loc[start:stop].copy()\n",
    "    if not this_chunk.empty:\n",
    "        this_chunk['event'] = 0  # no event until the last bin\n",
    "        event_idx = list(this_chunk.columns).index('event')\n",
    "        this_chunk.iloc[-1, this_chunk.columns.get_loc('event')] = int(row['event'])  # set last bin correctly\n",
    "        this_chunk['ttype'] = int(row['trial_type'])\n",
    "        this_chunk['rel_time'] = this_chunk.index - this_chunk.index[0]\n",
    "\n",
    "        chunks.append(this_chunk)\n",
    "\n",
    "# concatenate chunks, make non-power events their own series    \n",
    "meanpwr = pd.concat(chunks)\n",
    "event = meanpwr['event']\n",
    "time_in_trial = meanpwr['rel_time']\n",
    "ttype = pd.get_dummies(meanpwr['ttype'])\n",
    "ttype.columns = ['ttype' + str(idx) for idx in ttype.columns]\n",
    "meanpwr = meanpwr.drop(['event', 'ttype', 'rel_time'], axis=1)"
   ]
  },
  {
   "cell_type": "code",
   "execution_count": 19,
   "metadata": {
    "collapsed": true
   },
   "outputs": [],
   "source": [
    "# standardize\n",
    "meanpwr = meanpwr.apply(lambda x: (x - x.mean())/x.std())"
   ]
  },
  {
   "cell_type": "code",
   "execution_count": 20,
   "metadata": {
    "collapsed": false
   },
   "outputs": [],
   "source": [
    "# make interaction terms and squares\n",
    "int_terms = []\n",
    "for i in range(len(meanpwr.columns)):\n",
    "    for j in range(i + 1):\n",
    "        if i == j:\n",
    "            col = meanpwr.iloc[:, i] ** 2\n",
    "            band, chan = col.name.split('.')\n",
    "            col.name = \"{}.{}.{}.{}\".format(band, chan, band, chan)\n",
    "        else:\n",
    "            icol = meanpwr.iloc[:, i]\n",
    "            jcol = meanpwr.iloc[:, j]\n",
    "            col = icol * jcol\n",
    "            iband, ichan = icol.name.split('.')\n",
    "            jband, jchan = jcol.name.split('.')\n",
    "            col.name = \"{}.{}.{}.{}\".format(iband, ichan, jband, jchan)\n",
    "        \n",
    "        col = (col - col.mean())/col.std()\n",
    "        int_terms.append(col)"
   ]
  },
  {
   "cell_type": "code",
   "execution_count": 21,
   "metadata": {
    "collapsed": false
   },
   "outputs": [
    {
     "data": {
      "text/html": [
       "<div>\n",
       "<table border=\"1\" class=\"dataframe\">\n",
       "  <thead>\n",
       "    <tr style=\"text-align: right;\">\n",
       "      <th></th>\n",
       "      <th>event</th>\n",
       "      <th>rel_time</th>\n",
       "      <th>ttype1</th>\n",
       "      <th>ttype2</th>\n",
       "      <th>ttype3</th>\n",
       "      <th>delta.17</th>\n",
       "      <th>theta.17</th>\n",
       "      <th>alpha.17</th>\n",
       "      <th>beta.17</th>\n",
       "      <th>gamma.17</th>\n",
       "      <th>...</th>\n",
       "      <th>alpha.17.alpha.17</th>\n",
       "      <th>beta.17.delta.17</th>\n",
       "      <th>beta.17.theta.17</th>\n",
       "      <th>beta.17.alpha.17</th>\n",
       "      <th>beta.17.beta.17</th>\n",
       "      <th>gamma.17.delta.17</th>\n",
       "      <th>gamma.17.theta.17</th>\n",
       "      <th>gamma.17.alpha.17</th>\n",
       "      <th>gamma.17.beta.17</th>\n",
       "      <th>gamma.17.gamma.17</th>\n",
       "    </tr>\n",
       "    <tr>\n",
       "      <th>time</th>\n",
       "      <th></th>\n",
       "      <th></th>\n",
       "      <th></th>\n",
       "      <th></th>\n",
       "      <th></th>\n",
       "      <th></th>\n",
       "      <th></th>\n",
       "      <th></th>\n",
       "      <th></th>\n",
       "      <th></th>\n",
       "      <th></th>\n",
       "      <th></th>\n",
       "      <th></th>\n",
       "      <th></th>\n",
       "      <th></th>\n",
       "      <th></th>\n",
       "      <th></th>\n",
       "      <th></th>\n",
       "      <th></th>\n",
       "      <th></th>\n",
       "      <th></th>\n",
       "    </tr>\n",
       "  </thead>\n",
       "  <tbody>\n",
       "    <tr>\n",
       "      <th>18.0</th>\n",
       "      <td>0</td>\n",
       "      <td>0.0</td>\n",
       "      <td>1</td>\n",
       "      <td>0</td>\n",
       "      <td>0</td>\n",
       "      <td>0.269038</td>\n",
       "      <td>-0.040771</td>\n",
       "      <td>-0.462809</td>\n",
       "      <td>-0.347926</td>\n",
       "      <td>0.236346</td>\n",
       "      <td>...</td>\n",
       "      <td>-0.380210</td>\n",
       "      <td>-0.405307</td>\n",
       "      <td>-0.464791</td>\n",
       "      <td>-0.403717</td>\n",
       "      <td>-0.423757</td>\n",
       "      <td>-0.235965</td>\n",
       "      <td>-0.465955</td>\n",
       "      <td>-0.546282</td>\n",
       "      <td>-0.530510</td>\n",
       "      <td>-0.473759</td>\n",
       "    </tr>\n",
       "    <tr>\n",
       "      <th>18.1</th>\n",
       "      <td>0</td>\n",
       "      <td>0.1</td>\n",
       "      <td>1</td>\n",
       "      <td>0</td>\n",
       "      <td>0</td>\n",
       "      <td>-0.095846</td>\n",
       "      <td>0.354851</td>\n",
       "      <td>-0.332959</td>\n",
       "      <td>-0.169460</td>\n",
       "      <td>0.031133</td>\n",
       "      <td>...</td>\n",
       "      <td>-0.430222</td>\n",
       "      <td>-0.331344</td>\n",
       "      <td>-0.502264</td>\n",
       "      <td>-0.454406</td>\n",
       "      <td>-0.468286</td>\n",
       "      <td>-0.283916</td>\n",
       "      <td>-0.453913</td>\n",
       "      <td>-0.495039</td>\n",
       "      <td>-0.490109</td>\n",
       "      <td>-0.501309</td>\n",
       "    </tr>\n",
       "    <tr>\n",
       "      <th>18.2</th>\n",
       "      <td>0</td>\n",
       "      <td>0.2</td>\n",
       "      <td>1</td>\n",
       "      <td>0</td>\n",
       "      <td>0</td>\n",
       "      <td>-0.488489</td>\n",
       "      <td>0.905684</td>\n",
       "      <td>-0.042367</td>\n",
       "      <td>0.148970</td>\n",
       "      <td>-0.505327</td>\n",
       "      <td>...</td>\n",
       "      <td>-0.483009</td>\n",
       "      <td>-0.391278</td>\n",
       "      <td>-0.403913</td>\n",
       "      <td>-0.484808</td>\n",
       "      <td>-0.471433</td>\n",
       "      <td>-0.103962</td>\n",
       "      <td>-0.726813</td>\n",
       "      <td>-0.478596</td>\n",
       "      <td>-0.526860</td>\n",
       "      <td>-0.373628</td>\n",
       "    </tr>\n",
       "    <tr>\n",
       "      <th>18.3</th>\n",
       "      <td>0</td>\n",
       "      <td>0.3</td>\n",
       "      <td>1</td>\n",
       "      <td>0</td>\n",
       "      <td>0</td>\n",
       "      <td>0.689783</td>\n",
       "      <td>1.380112</td>\n",
       "      <td>0.252423</td>\n",
       "      <td>0.438889</td>\n",
       "      <td>-0.674309</td>\n",
       "      <td>...</td>\n",
       "      <td>-0.453039</td>\n",
       "      <td>-0.138441</td>\n",
       "      <td>-0.166524</td>\n",
       "      <td>-0.428062</td>\n",
       "      <td>-0.389242</td>\n",
       "      <td>-0.616800</td>\n",
       "      <td>-1.002182</td>\n",
       "      <td>-0.577761</td>\n",
       "      <td>-0.642709</td>\n",
       "      <td>-0.273577</td>\n",
       "    </tr>\n",
       "    <tr>\n",
       "      <th>18.4</th>\n",
       "      <td>0</td>\n",
       "      <td>0.4</td>\n",
       "      <td>1</td>\n",
       "      <td>0</td>\n",
       "      <td>0</td>\n",
       "      <td>3.053340</td>\n",
       "      <td>1.535812</td>\n",
       "      <td>0.331905</td>\n",
       "      <td>0.572697</td>\n",
       "      <td>0.078537</td>\n",
       "      <td>...</td>\n",
       "      <td>-0.430561</td>\n",
       "      <td>0.835113</td>\n",
       "      <td>-0.028447</td>\n",
       "      <td>-0.389635</td>\n",
       "      <td>-0.323965</td>\n",
       "      <td>-0.109037</td>\n",
       "      <td>-0.390117</td>\n",
       "      <td>-0.476185</td>\n",
       "      <td>-0.463726</td>\n",
       "      <td>-0.498699</td>\n",
       "    </tr>\n",
       "  </tbody>\n",
       "</table>\n",
       "<p>5 rows × 25 columns</p>\n",
       "</div>"
      ],
      "text/plain": [
       "      event  rel_time  ttype1  ttype2  ttype3  delta.17  theta.17  alpha.17  \\\n",
       "time                                                                          \n",
       "18.0      0       0.0       1       0       0  0.269038 -0.040771 -0.462809   \n",
       "18.1      0       0.1       1       0       0 -0.095846  0.354851 -0.332959   \n",
       "18.2      0       0.2       1       0       0 -0.488489  0.905684 -0.042367   \n",
       "18.3      0       0.3       1       0       0  0.689783  1.380112  0.252423   \n",
       "18.4      0       0.4       1       0       0  3.053340  1.535812  0.331905   \n",
       "\n",
       "       beta.17  gamma.17        ...          alpha.17.alpha.17  \\\n",
       "time                            ...                              \n",
       "18.0 -0.347926  0.236346        ...                  -0.380210   \n",
       "18.1 -0.169460  0.031133        ...                  -0.430222   \n",
       "18.2  0.148970 -0.505327        ...                  -0.483009   \n",
       "18.3  0.438889 -0.674309        ...                  -0.453039   \n",
       "18.4  0.572697  0.078537        ...                  -0.430561   \n",
       "\n",
       "      beta.17.delta.17  beta.17.theta.17  beta.17.alpha.17  beta.17.beta.17  \\\n",
       "time                                                                          \n",
       "18.0         -0.405307         -0.464791         -0.403717        -0.423757   \n",
       "18.1         -0.331344         -0.502264         -0.454406        -0.468286   \n",
       "18.2         -0.391278         -0.403913         -0.484808        -0.471433   \n",
       "18.3         -0.138441         -0.166524         -0.428062        -0.389242   \n",
       "18.4          0.835113         -0.028447         -0.389635        -0.323965   \n",
       "\n",
       "      gamma.17.delta.17  gamma.17.theta.17  gamma.17.alpha.17  \\\n",
       "time                                                            \n",
       "18.0          -0.235965          -0.465955          -0.546282   \n",
       "18.1          -0.283916          -0.453913          -0.495039   \n",
       "18.2          -0.103962          -0.726813          -0.478596   \n",
       "18.3          -0.616800          -1.002182          -0.577761   \n",
       "18.4          -0.109037          -0.390117          -0.476185   \n",
       "\n",
       "      gamma.17.beta.17  gamma.17.gamma.17  \n",
       "time                                       \n",
       "18.0         -0.530510          -0.473759  \n",
       "18.1         -0.490109          -0.501309  \n",
       "18.2         -0.526860          -0.373628  \n",
       "18.3         -0.642709          -0.273577  \n",
       "18.4         -0.463726          -0.498699  \n",
       "\n",
       "[5 rows x 25 columns]"
      ]
     },
     "execution_count": 21,
     "metadata": {},
     "output_type": "execute_result"
    }
   ],
   "source": [
    "trainset = pd.concat([event, time_in_trial, ttype, meanpwr] + int_terms, axis=1, join='inner')\n",
    "# trainset = trainset.dropna()  # can't send glmnet any row with a NaN\n",
    "trainset.head()"
   ]
  },
  {
   "cell_type": "code",
   "execution_count": 22,
   "metadata": {
    "collapsed": false
   },
   "outputs": [
    {
     "name": "stdout",
     "output_type": "stream",
     "text": [
      "(4110, 25)\n"
     ]
    }
   ],
   "source": [
    "print trainset.shape"
   ]
  },
  {
   "cell_type": "code",
   "execution_count": 23,
   "metadata": {
    "collapsed": false
   },
   "outputs": [
    {
     "data": {
      "text/plain": [
       "54"
      ]
     },
     "execution_count": 23,
     "metadata": {},
     "output_type": "execute_result"
    }
   ],
   "source": [
    "np.sum(trainset.event)"
   ]
  },
  {
   "cell_type": "code",
   "execution_count": null,
   "metadata": {
    "collapsed": true
   },
   "outputs": [],
   "source": []
  }
 ],
 "metadata": {
  "kernelspec": {
   "display_name": "Python [python2]",
   "language": "python",
   "name": "Python [python2]"
  },
  "language_info": {
   "codemirror_mode": {
    "name": "ipython",
    "version": 2
   },
   "file_extension": ".py",
   "mimetype": "text/x-python",
   "name": "python",
   "nbconvert_exporter": "python",
   "pygments_lexer": "ipython2",
   "version": "2.7.12"
  }
 },
 "nbformat": 4,
 "nbformat_minor": 0
}
