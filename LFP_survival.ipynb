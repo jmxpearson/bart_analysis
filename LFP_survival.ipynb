{
 "cells": [
  {
   "cell_type": "markdown",
   "metadata": {},
   "source": [
    "# Survival analysis with LFP spectral features\n",
    "\n",
    "### Stops are events, pops are censored"
   ]
  },
  {
   "cell_type": "code",
   "execution_count": 1,
   "metadata": {
    "collapsed": false
   },
   "outputs": [],
   "source": [
    "import numpy as np\n",
    "import pandas as pd\n",
    "import physutils\n",
    "import dbio\n",
    "import os\n",
    "from __future__ import division\n",
    "import matplotlib.pyplot as plt\n",
    "%matplotlib inline\n",
    "\n",
    "plt.style.use('ggplot')\n",
    "np.random.seed(123456)"
   ]
  },
  {
   "cell_type": "markdown",
   "metadata": {},
   "source": [
    "## Load Data"
   ]
  },
  {
   "cell_type": "code",
   "execution_count": 2,
   "metadata": {
    "collapsed": false
   },
   "outputs": [],
   "source": [
    "# which patient, dataset to plot\n",
    "dtup = 18, 1"
   ]
  },
  {
   "cell_type": "code",
   "execution_count": 3,
   "metadata": {
    "collapsed": false
   },
   "outputs": [],
   "source": [
    "# load data\n",
    "dbname = os.path.expanduser('data/bart.hdf5')\n",
    "lfpraw = dbio.fetch_all_such_LFP(dbname, *dtup)"
   ]
  },
  {
   "cell_type": "markdown",
   "metadata": {},
   "source": [
    "## Preprocess Data"
   ]
  },
  {
   "cell_type": "code",
   "execution_count": 4,
   "metadata": {
    "collapsed": false
   },
   "outputs": [],
   "source": [
    "# remove global mean across all channels at each time then set each channel to mean 0\n",
    "lfp = lfpraw.demean_global().demean()"
   ]
  },
  {
   "cell_type": "code",
   "execution_count": 5,
   "metadata": {
    "collapsed": false
   },
   "outputs": [],
   "source": [
    "filters = ['delta', 'theta', 'alpha', 'beta', 'gamma']\n",
    "lfp = lfp.bandlimit(filters)"
   ]
  },
  {
   "cell_type": "code",
   "execution_count": 6,
   "metadata": {
    "collapsed": false
   },
   "outputs": [],
   "source": [
    "# decimate to 40 Hz, get instantaneous power, censor, and z-score each channel\n",
    "# lfp = lfp.decimate(5).instpwr().censor().zscore()"
   ]
  },
  {
   "cell_type": "code",
   "execution_count": 7,
   "metadata": {
    "collapsed": false
   },
   "outputs": [],
   "source": [
    "# decimate to 10 Hz\n",
    "lfp = lfp.decimate(5).decimate(4).instpwr().zscore()"
   ]
  },
  {
   "cell_type": "code",
   "execution_count": 12,
   "metadata": {
    "collapsed": false
   },
   "outputs": [
    {
     "data": {
      "text/html": [
       "<div>\n",
       "<table border=\"1\" class=\"dataframe\">\n",
       "  <thead>\n",
       "    <tr style=\"text-align: right;\">\n",
       "      <th></th>\n",
       "      <th>start</th>\n",
       "      <th>trial_type</th>\n",
       "      <th>event</th>\n",
       "      <th>stop</th>\n",
       "    </tr>\n",
       "    <tr>\n",
       "      <th>trial</th>\n",
       "      <th></th>\n",
       "      <th></th>\n",
       "      <th></th>\n",
       "      <th></th>\n",
       "    </tr>\n",
       "  </thead>\n",
       "  <tbody>\n",
       "    <tr>\n",
       "      <th>0</th>\n",
       "      <td>43.691</td>\n",
       "      <td>1</td>\n",
       "      <td>1</td>\n",
       "      <td>44.229</td>\n",
       "    </tr>\n",
       "    <tr>\n",
       "      <th>1</th>\n",
       "      <td>46.797</td>\n",
       "      <td>3</td>\n",
       "      <td>1</td>\n",
       "      <td>47.260</td>\n",
       "    </tr>\n",
       "    <tr>\n",
       "      <th>2</th>\n",
       "      <td>51.387</td>\n",
       "      <td>2</td>\n",
       "      <td>1</td>\n",
       "      <td>58.188</td>\n",
       "    </tr>\n",
       "    <tr>\n",
       "      <th>3</th>\n",
       "      <td>61.828</td>\n",
       "      <td>2</td>\n",
       "      <td>1</td>\n",
       "      <td>67.751</td>\n",
       "    </tr>\n",
       "    <tr>\n",
       "      <th>4</th>\n",
       "      <td>72.420</td>\n",
       "      <td>3</td>\n",
       "      <td>0</td>\n",
       "      <td>75.990</td>\n",
       "    </tr>\n",
       "  </tbody>\n",
       "</table>\n",
       "</div>"
      ],
      "text/plain": [
       "        start  trial_type  event    stop\n",
       "trial                                   \n",
       "0      43.691           1      1  44.229\n",
       "1      46.797           3      1  47.260\n",
       "2      51.387           2      1  58.188\n",
       "3      61.828           2      1  67.751\n",
       "4      72.420           3      0  75.990"
      ]
     },
     "execution_count": 12,
     "metadata": {},
     "output_type": "execute_result"
    }
   ],
   "source": [
    "# get events\n",
    "evt = dbio.fetch(dbname, 'events', *dtup)\n",
    "cols = ['banked', 'popped', 'start inflating', 'trial_type']\n",
    "\n",
    "if 'is_control' in evt.columns:\n",
    "    evt_tmp = evt.query('is_control == False')[cols]\n",
    "else:\n",
    "    evt_tmp = evt.loc[:, cols]\n",
    "\n",
    "# add a binary column (1 = voluntary stop)    \n",
    "evt_tmp['event'] = np.isnan(evt_tmp['popped']).astype('int')\n",
    "\n",
    "# add a column for stop time (regardless of cause)\n",
    "evt_tmp['stop'] = evt.loc[:, ['banked', 'popped']].mean(axis=1)\n",
    "\n",
    "# drop unneeded columns\n",
    "evt_tmp = evt_tmp.drop(['banked', 'popped'], axis=1)\n",
    "evt_tmp = evt_tmp.rename(columns={'start inflating': 'start'})\n",
    "\n",
    "evt_tmp.head()"
   ]
  },
  {
   "cell_type": "markdown",
   "metadata": {},
   "source": [
    "## Remove unneeded data\n",
    "\n",
    "- take only non-control trials\n",
    "- get only time points between trial start and event (pop or stop)"
   ]
  },
  {
   "cell_type": "code",
   "execution_count": 47,
   "metadata": {
    "collapsed": false,
    "scrolled": false
   },
   "outputs": [],
   "source": [
    "chunks = []\n",
    "event_idx = list(evt_tmp.columns).index('event')\n",
    "for trial, row in evt_tmp.iterrows():\n",
    "    start, stop = row['start'], row['stop']\n",
    "    this_chunk = lfp.loc[start:stop].copy()\n",
    "    this_chunk['event'] = 0  # no event until the last bin\n",
    "    this_chunk.iloc[-1, event_idx] = int(row['event'])  # set last bin correctly\n",
    "    this_chunk['ttype'] = int(row['trial_type'])\n",
    "\n",
    "    chunks.append(this_chunk)\n",
    "\n",
    "# concatenate chunks, make non-power events their series    \n",
    "meanpwr = pd.concat(chunks)\n",
    "event = meanpwr['event']\n",
    "ttype = pd.get_dummies(meanpwr['ttype'])\n",
    "ttype.columns = ['ttype' + str(idx) for idx in ttype.columns]\n",
    "meanpwr = meanpwr.drop(['event', 'ttype'], axis=1)"
   ]
  },
  {
   "cell_type": "code",
   "execution_count": 42,
   "metadata": {
    "collapsed": true
   },
   "outputs": [],
   "source": [
    "# make interaction terms and squares\n",
    "int_terms = []\n",
    "for i in range(len(meanpwr.columns)):\n",
    "    for j in range(i + 1):\n",
    "        if i == j:\n",
    "            col = meanpwr.iloc[:, i] ** 2\n",
    "            band, chan = col.name.split('.')\n",
    "            col.name = \"{}.{}.{}.{}\".format(band, chan, band, chan)\n",
    "        else:\n",
    "            icol = meanpwr.iloc[:, i]\n",
    "            jcol = meanpwr.iloc[:, j]\n",
    "            col = icol * jcol\n",
    "            iband, ichan = icol.name.split('.')\n",
    "            jband, jchan = jcol.name.split('.')\n",
    "            col.name = \"{}.{}.{}.{}\".format(iband, ichan, jband, jchan)\n",
    "\n",
    "        int_terms.append(col)"
   ]
  },
  {
   "cell_type": "code",
   "execution_count": 49,
   "metadata": {
    "collapsed": false
   },
   "outputs": [
    {
     "data": {
      "text/html": [
       "<div>\n",
       "<table border=\"1\" class=\"dataframe\">\n",
       "  <thead>\n",
       "    <tr style=\"text-align: right;\">\n",
       "      <th></th>\n",
       "      <th>event</th>\n",
       "      <th>ttype1</th>\n",
       "      <th>ttype2</th>\n",
       "      <th>ttype3</th>\n",
       "      <th>delta.17</th>\n",
       "      <th>delta.18</th>\n",
       "      <th>delta.19</th>\n",
       "      <th>delta.20</th>\n",
       "      <th>delta.21</th>\n",
       "      <th>delta.22</th>\n",
       "      <th>...</th>\n",
       "      <th>gamma.48.gamma.39</th>\n",
       "      <th>gamma.48.gamma.40</th>\n",
       "      <th>gamma.48.gamma.41</th>\n",
       "      <th>gamma.48.gamma.42</th>\n",
       "      <th>gamma.48.gamma.43</th>\n",
       "      <th>gamma.48.gamma.44</th>\n",
       "      <th>gamma.48.gamma.45</th>\n",
       "      <th>gamma.48.gamma.46</th>\n",
       "      <th>gamma.48.gamma.47</th>\n",
       "      <th>gamma.48.gamma.48</th>\n",
       "    </tr>\n",
       "    <tr>\n",
       "      <th>time</th>\n",
       "      <th></th>\n",
       "      <th></th>\n",
       "      <th></th>\n",
       "      <th></th>\n",
       "      <th></th>\n",
       "      <th></th>\n",
       "      <th></th>\n",
       "      <th></th>\n",
       "      <th></th>\n",
       "      <th></th>\n",
       "      <th></th>\n",
       "      <th></th>\n",
       "      <th></th>\n",
       "      <th></th>\n",
       "      <th></th>\n",
       "      <th></th>\n",
       "      <th></th>\n",
       "      <th></th>\n",
       "      <th></th>\n",
       "      <th></th>\n",
       "      <th></th>\n",
       "    </tr>\n",
       "  </thead>\n",
       "  <tbody>\n",
       "    <tr>\n",
       "      <th>43.7</th>\n",
       "      <td>0</td>\n",
       "      <td>1</td>\n",
       "      <td>0</td>\n",
       "      <td>0</td>\n",
       "      <td>4.034722</td>\n",
       "      <td>-0.369205</td>\n",
       "      <td>-0.482158</td>\n",
       "      <td>-0.475573</td>\n",
       "      <td>-0.508196</td>\n",
       "      <td>-0.328304</td>\n",
       "      <td>...</td>\n",
       "      <td>-0.052026</td>\n",
       "      <td>6.254969</td>\n",
       "      <td>0.656085</td>\n",
       "      <td>23.570800</td>\n",
       "      <td>0.171102</td>\n",
       "      <td>10.420873</td>\n",
       "      <td>11.669609</td>\n",
       "      <td>0.311388</td>\n",
       "      <td>3.041516</td>\n",
       "      <td>19.577036</td>\n",
       "    </tr>\n",
       "    <tr>\n",
       "      <th>43.8</th>\n",
       "      <td>0</td>\n",
       "      <td>1</td>\n",
       "      <td>0</td>\n",
       "      <td>0</td>\n",
       "      <td>2.402771</td>\n",
       "      <td>-0.728572</td>\n",
       "      <td>-0.567529</td>\n",
       "      <td>-0.351588</td>\n",
       "      <td>0.977441</td>\n",
       "      <td>-0.150758</td>\n",
       "      <td>...</td>\n",
       "      <td>0.171190</td>\n",
       "      <td>6.244879</td>\n",
       "      <td>-0.838850</td>\n",
       "      <td>31.223646</td>\n",
       "      <td>0.587477</td>\n",
       "      <td>10.156744</td>\n",
       "      <td>5.967136</td>\n",
       "      <td>-0.013543</td>\n",
       "      <td>3.954699</td>\n",
       "      <td>20.072959</td>\n",
       "    </tr>\n",
       "    <tr>\n",
       "      <th>43.9</th>\n",
       "      <td>0</td>\n",
       "      <td>1</td>\n",
       "      <td>0</td>\n",
       "      <td>0</td>\n",
       "      <td>4.951854</td>\n",
       "      <td>1.148581</td>\n",
       "      <td>0.177016</td>\n",
       "      <td>-0.080601</td>\n",
       "      <td>-0.062901</td>\n",
       "      <td>0.957006</td>\n",
       "      <td>...</td>\n",
       "      <td>-0.051558</td>\n",
       "      <td>9.474805</td>\n",
       "      <td>-0.396304</td>\n",
       "      <td>21.944122</td>\n",
       "      <td>0.288479</td>\n",
       "      <td>12.909397</td>\n",
       "      <td>10.272966</td>\n",
       "      <td>0.078048</td>\n",
       "      <td>2.534273</td>\n",
       "      <td>20.409032</td>\n",
       "    </tr>\n",
       "    <tr>\n",
       "      <th>44.0</th>\n",
       "      <td>0</td>\n",
       "      <td>1</td>\n",
       "      <td>0</td>\n",
       "      <td>0</td>\n",
       "      <td>1.750929</td>\n",
       "      <td>4.407977</td>\n",
       "      <td>1.816575</td>\n",
       "      <td>0.451829</td>\n",
       "      <td>1.077129</td>\n",
       "      <td>-0.182890</td>\n",
       "      <td>...</td>\n",
       "      <td>0.043384</td>\n",
       "      <td>4.090010</td>\n",
       "      <td>0.127207</td>\n",
       "      <td>22.006340</td>\n",
       "      <td>0.235666</td>\n",
       "      <td>7.467125</td>\n",
       "      <td>7.640104</td>\n",
       "      <td>0.225138</td>\n",
       "      <td>1.556562</td>\n",
       "      <td>14.090097</td>\n",
       "    </tr>\n",
       "    <tr>\n",
       "      <th>44.1</th>\n",
       "      <td>0</td>\n",
       "      <td>1</td>\n",
       "      <td>0</td>\n",
       "      <td>0</td>\n",
       "      <td>-0.597566</td>\n",
       "      <td>2.012673</td>\n",
       "      <td>1.106268</td>\n",
       "      <td>0.485475</td>\n",
       "      <td>-0.404860</td>\n",
       "      <td>-0.896854</td>\n",
       "      <td>...</td>\n",
       "      <td>0.082642</td>\n",
       "      <td>4.279624</td>\n",
       "      <td>-0.656881</td>\n",
       "      <td>12.618432</td>\n",
       "      <td>0.340466</td>\n",
       "      <td>4.718906</td>\n",
       "      <td>3.831619</td>\n",
       "      <td>-0.041174</td>\n",
       "      <td>2.396388</td>\n",
       "      <td>15.669234</td>\n",
       "    </tr>\n",
       "  </tbody>\n",
       "</table>\n",
       "<p>5 rows × 13044 columns</p>\n",
       "</div>"
      ],
      "text/plain": [
       "      event  ttype1  ttype2  ttype3  delta.17  delta.18  delta.19  delta.20  \\\n",
       "time                                                                          \n",
       "43.7      0       1       0       0  4.034722 -0.369205 -0.482158 -0.475573   \n",
       "43.8      0       1       0       0  2.402771 -0.728572 -0.567529 -0.351588   \n",
       "43.9      0       1       0       0  4.951854  1.148581  0.177016 -0.080601   \n",
       "44.0      0       1       0       0  1.750929  4.407977  1.816575  0.451829   \n",
       "44.1      0       1       0       0 -0.597566  2.012673  1.106268  0.485475   \n",
       "\n",
       "      delta.21  delta.22        ...          gamma.48.gamma.39  \\\n",
       "time                            ...                              \n",
       "43.7 -0.508196 -0.328304        ...                  -0.052026   \n",
       "43.8  0.977441 -0.150758        ...                   0.171190   \n",
       "43.9 -0.062901  0.957006        ...                  -0.051558   \n",
       "44.0  1.077129 -0.182890        ...                   0.043384   \n",
       "44.1 -0.404860 -0.896854        ...                   0.082642   \n",
       "\n",
       "      gamma.48.gamma.40  gamma.48.gamma.41  gamma.48.gamma.42  \\\n",
       "time                                                            \n",
       "43.7           6.254969           0.656085          23.570800   \n",
       "43.8           6.244879          -0.838850          31.223646   \n",
       "43.9           9.474805          -0.396304          21.944122   \n",
       "44.0           4.090010           0.127207          22.006340   \n",
       "44.1           4.279624          -0.656881          12.618432   \n",
       "\n",
       "      gamma.48.gamma.43  gamma.48.gamma.44  gamma.48.gamma.45  \\\n",
       "time                                                            \n",
       "43.7           0.171102          10.420873          11.669609   \n",
       "43.8           0.587477          10.156744           5.967136   \n",
       "43.9           0.288479          12.909397          10.272966   \n",
       "44.0           0.235666           7.467125           7.640104   \n",
       "44.1           0.340466           4.718906           3.831619   \n",
       "\n",
       "      gamma.48.gamma.46  gamma.48.gamma.47  gamma.48.gamma.48  \n",
       "time                                                           \n",
       "43.7           0.311388           3.041516          19.577036  \n",
       "43.8          -0.013543           3.954699          20.072959  \n",
       "43.9           0.078048           2.534273          20.409032  \n",
       "44.0           0.225138           1.556562          14.090097  \n",
       "44.1          -0.041174           2.396388          15.669234  \n",
       "\n",
       "[5 rows x 13044 columns]"
      ]
     },
     "execution_count": 49,
     "metadata": {},
     "output_type": "execute_result"
    }
   ],
   "source": [
    "trainset = pd.concat([event, ttype, meanpwr] + int_terms, axis=1, join='inner')\n",
    "# trainset = trainset.dropna()  # can't send glmnet any row with a NaN\n",
    "trainset.head()"
   ]
  },
  {
   "cell_type": "code",
   "execution_count": 50,
   "metadata": {
    "collapsed": false
   },
   "outputs": [
    {
     "name": "stdout",
     "output_type": "stream",
     "text": [
      "(9076, 13044)\n"
     ]
    }
   ],
   "source": [
    "print trainset.shape"
   ]
  },
  {
   "cell_type": "markdown",
   "metadata": {},
   "source": [
    "## Run sparse regression in R"
   ]
  },
  {
   "cell_type": "code",
   "execution_count": null,
   "metadata": {
    "collapsed": false
   },
   "outputs": [],
   "source": [
    "%load_ext rpy2.ipython"
   ]
  },
  {
   "cell_type": "code",
   "execution_count": 30,
   "metadata": {
    "collapsed": false
   },
   "outputs": [],
   "source": [
    "%%R\n",
    "set.seed(77654)\n",
    "suppressMessages(library(glmnet))\n",
    "source('glm_helpers.R')"
   ]
  },
  {
   "cell_type": "code",
   "execution_count": 35,
   "metadata": {
    "collapsed": false
   },
   "outputs": [],
   "source": [
    "%Rpush trainset\n",
    "%R fitobj <- run_glm(data.matrix(trainset), measure='auc');"
   ]
  },
  {
   "cell_type": "markdown",
   "metadata": {},
   "source": [
    "<img src=\"auc.svg\"/>"
   ]
  },
  {
   "cell_type": "code",
   "execution_count": 32,
   "metadata": {
    "collapsed": false
   },
   "outputs": [],
   "source": [
    "%%R -o auc\n",
    "source('helpers.R')\n",
    "\n",
    "# get performance\n",
    "glmobj <- fitobj$glmobj\n",
    "min.ind <- which(glmobj$lambda == glmobj$lambda.1se)\n",
    "auc <- glmobj$cvm[min.ind]"
   ]
  },
  {
   "cell_type": "code",
   "execution_count": 33,
   "metadata": {
    "collapsed": false
   },
   "outputs": [
    {
     "name": "stdout",
     "output_type": "stream",
     "text": [
      "Area Under the Curve = [ 0.71054498]\n"
     ]
    }
   ],
   "source": [
    "print \"Area Under the Curve = {}\".format(auc)"
   ]
  },
  {
   "cell_type": "code",
   "execution_count": null,
   "metadata": {
    "collapsed": true
   },
   "outputs": [],
   "source": []
  }
 ],
 "metadata": {
  "kernelspec": {
   "display_name": "Python [python2]",
   "language": "python",
   "name": "Python [python2]"
  },
  "language_info": {
   "codemirror_mode": {
    "name": "ipython",
    "version": 2
   },
   "file_extension": ".py",
   "mimetype": "text/x-python",
   "name": "python",
   "nbconvert_exporter": "python",
   "pygments_lexer": "ipython2",
   "version": "2.7.12"
  }
 },
 "nbformat": 4,
 "nbformat_minor": 0
}
