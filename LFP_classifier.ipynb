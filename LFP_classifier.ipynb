{
 "cells": [
  {
   "cell_type": "markdown",
   "metadata": {},
   "source": [
    "# Can we use local field potentials to predict trial stops?"
   ]
  },
  {
   "cell_type": "code",
   "execution_count": 1,
   "metadata": {
    "collapsed": false
   },
   "outputs": [],
   "source": [
    "import numpy as np\n",
    "import pandas as pd\n",
    "import physutils\n",
    "import dbio\n",
    "import os\n",
    "from __future__ import division\n",
    "import matplotlib.pyplot as plt\n",
    "%matplotlib inline\n",
    "\n",
    "plt.style.use('ggplot')\n",
    "np.random.seed(123456)"
   ]
  },
  {
   "cell_type": "markdown",
   "metadata": {},
   "source": [
    "## Load Data"
   ]
  },
  {
   "cell_type": "code",
   "execution_count": 2,
   "metadata": {
    "collapsed": false
   },
   "outputs": [],
   "source": [
    "# which patient, dataset to plot\n",
    "dtup = 18, 1"
   ]
  },
  {
   "cell_type": "code",
   "execution_count": 3,
   "metadata": {
    "collapsed": false
   },
   "outputs": [],
   "source": [
    "# load data\n",
    "dbname = os.path.expanduser('data/bart.hdf5')\n",
    "lfpraw = dbio.fetch_all_such_LFP(dbname, *dtup)"
   ]
  },
  {
   "cell_type": "markdown",
   "metadata": {},
   "source": [
    "## Preprocess Data"
   ]
  },
  {
   "cell_type": "code",
   "execution_count": 4,
   "metadata": {
    "collapsed": false
   },
   "outputs": [],
   "source": [
    "lfp = lfpraw.demean()"
   ]
  },
  {
   "cell_type": "code",
   "execution_count": 5,
   "metadata": {
    "collapsed": false
   },
   "outputs": [],
   "source": [
    "filters = ['delta', 'theta', 'alpha', 'beta', 'gamma']\n",
    "lfp = lfp.bandlimit(filters)"
   ]
  },
  {
   "cell_type": "code",
   "execution_count": 6,
   "metadata": {
    "collapsed": false
   },
   "outputs": [],
   "source": [
    "# decimate to 40 Hz, get instantaneous power, censor, and z-score each channel\n",
    "lfp = lfp.decimate(5).instpwr().censor().zscore()"
   ]
  },
  {
   "cell_type": "code",
   "execution_count": 7,
   "metadata": {
    "collapsed": false
   },
   "outputs": [],
   "source": [
    "# get events\n",
    "evt = dbio.fetch(dbname, 'events', *dtup)\n",
    "stops = evt['banked'].dropna()\n",
    "pops = evt['popped'].dropna()\n",
    "starts = evt['start inflating']\n",
    "if 'is_control' in evt.columns:\n",
    "    stops_free = evt.query('is_control == False')['banked'].dropna()\n",
    "    stops_control = evt.query('is_control == True')['banked'].dropna()\n",
    "    stops_rewarded = evt.query('trial_type != 4')['banked'].dropna()\n",
    "    stops_unrewarded = evt.query('trial_type == 4')['banked'].dropna()\n",
    "else:\n",
    "    stops_free = stops\n",
    "    stops_rewarded = stops"
   ]
  },
  {
   "cell_type": "markdown",
   "metadata": {},
   "source": [
    "## Get True Positives"
   ]
  },
  {
   "cell_type": "code",
   "execution_count": 8,
   "metadata": {
    "collapsed": false
   },
   "outputs": [],
   "source": [
    "truepos = pd.DataFrame(stops_free.values, columns=['time'])\n",
    "truepos['outcome'] = 1"
   ]
  },
  {
   "cell_type": "markdown",
   "metadata": {},
   "source": [
    "## Get True Negatives"
   ]
  },
  {
   "cell_type": "markdown",
   "metadata": {},
   "source": [
    "We will choose as true negatives an equal number of random times that are not within a fixed interval of any true positives."
   ]
  },
  {
   "cell_type": "code",
   "execution_count": 9,
   "metadata": {
    "collapsed": false
   },
   "outputs": [],
   "source": [
    "def within_range(test_value, anchor_list, radius_tuple):\n",
    "    # return true when test_value is not within a radius tuple\n",
    "    # of any value in anchor_list \n",
    "    # NOTE: both elements of radius_tuple must be positive!\n",
    "\n",
    "    dist = test_value - np.array(anchor_list)\n",
    "    within_range = np.logical_and(dist > -radius_tuple[0],\n",
    "        dist < radius_tuple[1]) \n",
    "    return np.any(within_range)"
   ]
  },
  {
   "cell_type": "code",
   "execution_count": 10,
   "metadata": {
    "collapsed": false
   },
   "outputs": [],
   "source": [
    "Tpre = 2  # time before stop to exclude\n",
    "Tpost = 1.5  # time after stop to exclude\n",
    "dt = np.around(1. / lfp.meta['sr'], 3) "
   ]
  },
  {
   "cell_type": "code",
   "execution_count": 11,
   "metadata": {
    "collapsed": false
   },
   "outputs": [],
   "source": [
    "maxT = lfp.index[-1]\n",
    "Nrand = truepos.shape[0]  # number to generate: same as number of true positives\n",
    "Ncand = 2000  # number to filter down to Nrand\n",
    "candidates = np.random.rand(Ncand) * (maxT - Tpre) + Tpre\n",
    "candidates = np.around(candidates / dt) * dt  # round to nearest dt\n",
    "candidates = np.unique(candidates)\n",
    "np.random.shuffle(candidates)\n",
    "rand_times = filter(lambda x: ~within_range(x, truepos['time'], \n",
    "                                            (Tpre, Tpost)), candidates)[:Nrand]\n",
    "trueneg = pd.DataFrame(rand_times, columns=['time'])\n",
    "trueneg['outcome'] = 0"
   ]
  },
  {
   "cell_type": "markdown",
   "metadata": {},
   "source": [
    "## Concatenate true and false positives together to form training labels:"
   ]
  },
  {
   "cell_type": "code",
   "execution_count": 12,
   "metadata": {
    "collapsed": false
   },
   "outputs": [],
   "source": [
    "allevt = pd.concat([truepos, trueneg])\n",
    "allevt['time'] = np.around(allevt['time'] / dt) * dt\n",
    "allevt = allevt.set_index('time')"
   ]
  },
  {
   "cell_type": "markdown",
   "metadata": {},
   "source": [
    "## Grab band-averaged power prior to each event"
   ]
  },
  {
   "cell_type": "code",
   "execution_count": 13,
   "metadata": {
    "collapsed": false
   },
   "outputs": [],
   "source": [
    "meanpwr = pd.rolling_mean(lfp.dataframe, np.ceil(np.abs(Tpre) / dt), min_periods=1)\n",
    "meanpwr.index = np.around(meanpwr.index / dt) * dt"
   ]
  },
  {
   "cell_type": "code",
   "execution_count": 14,
   "metadata": {
    "collapsed": true
   },
   "outputs": [],
   "source": [
    "# make interaction terms and squares\n",
    "int_terms = []\n",
    "for i in range(len(meanpwr.columns)):\n",
    "    for j in range(i + 1):\n",
    "        if i == j:\n",
    "            col = meanpwr.iloc[:, i] ** 2\n",
    "            band, chan = col.name.split('.')\n",
    "            col.name = \"{}.{}.{}.{}\".format(band, chan, band, chan)\n",
    "        else:\n",
    "            icol = meanpwr.iloc[:, i]\n",
    "            jcol = meanpwr.iloc[:, j]\n",
    "            col = icol * jcol\n",
    "            iband, ichan = icol.name.split('.')\n",
    "            jband, jchan = jcol.name.split('.')\n",
    "            col.name = \"{}.{}.{}.{}\".format(iband, ichan, jband, jchan)\n",
    "\n",
    "        int_terms.append(col)"
   ]
  },
  {
   "cell_type": "code",
   "execution_count": 28,
   "metadata": {
    "collapsed": false
   },
   "outputs": [],
   "source": [
    "trainset = pd.concat([allevt, meanpwr] + int_terms, axis=1, join='inner')\n",
    "trainset = trainset.dropna()  # can't send glmnet any row with a NaN"
   ]
  },
  {
   "cell_type": "markdown",
   "metadata": {},
   "source": [
    "## Run sparse regression in R"
   ]
  },
  {
   "cell_type": "code",
   "execution_count": 29,
   "metadata": {
    "collapsed": false
   },
   "outputs": [
    {
     "name": "stdout",
     "output_type": "stream",
     "text": [
      "The rpy2.ipython extension is already loaded. To reload it, use:\n",
      "  %reload_ext rpy2.ipython\n"
     ]
    }
   ],
   "source": [
    "%load_ext rpy2.ipython"
   ]
  },
  {
   "cell_type": "code",
   "execution_count": 30,
   "metadata": {
    "collapsed": false
   },
   "outputs": [],
   "source": [
    "%%R\n",
    "set.seed(77654)\n",
    "suppressMessages(library(glmnet))\n",
    "source('glm_helpers.R')"
   ]
  },
  {
   "cell_type": "code",
   "execution_count": 35,
   "metadata": {
    "collapsed": false
   },
   "outputs": [],
   "source": [
    "%Rpush trainset\n",
    "%R fitobj <- run_glm(data.matrix(trainset), measure='auc');"
   ]
  },
  {
   "cell_type": "markdown",
   "metadata": {},
   "source": [
    "<img src=\"auc.svg\"/>"
   ]
  },
  {
   "cell_type": "code",
   "execution_count": 32,
   "metadata": {
    "collapsed": false
   },
   "outputs": [],
   "source": [
    "%%R -o auc\n",
    "source('helpers.R')\n",
    "\n",
    "# get performance\n",
    "glmobj <- fitobj$glmobj\n",
    "min.ind <- which(glmobj$lambda == glmobj$lambda.1se)\n",
    "auc <- glmobj$cvm[min.ind]"
   ]
  },
  {
   "cell_type": "code",
   "execution_count": 33,
   "metadata": {
    "collapsed": false
   },
   "outputs": [
    {
     "name": "stdout",
     "output_type": "stream",
     "text": [
      "Area Under the Curve = [ 0.71054498]\n"
     ]
    }
   ],
   "source": [
    "print \"Area Under the Curve = {}\".format(auc)"
   ]
  },
  {
   "cell_type": "code",
   "execution_count": null,
   "metadata": {
    "collapsed": true
   },
   "outputs": [],
   "source": []
  }
 ],
 "metadata": {
  "kernelspec": {
   "display_name": "Python 2",
   "language": "python",
   "name": "python2"
  },
  "language_info": {
   "codemirror_mode": {
    "name": "ipython",
    "version": 2
   },
   "file_extension": ".py",
   "mimetype": "text/x-python",
   "name": "python",
   "nbconvert_exporter": "python",
   "pygments_lexer": "ipython2",
   "version": "2.7.11"
  }
 },
 "nbformat": 4,
 "nbformat_minor": 0
}
