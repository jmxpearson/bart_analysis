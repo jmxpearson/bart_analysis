{
 "cells": [
  {
   "cell_type": "markdown",
   "metadata": {},
   "source": [
    "# Time-frequency analysis of grand LFP mean\n",
    "\n",
    "Here, we take the mean across all (normalized) channels across all subjects of the peri-event LFP response."
   ]
  },
  {
   "cell_type": "code",
   "execution_count": 1,
   "metadata": {
    "collapsed": true
   },
   "outputs": [],
   "source": [
    "import numpy as np\n",
    "import pandas as pd\n",
    "import physutils as phys\n",
    "import physutils.bootstrap as boot\n",
    "import physutils.tf as tf\n",
    "import matplotlib.pyplot as plt\n",
    "import dbio\n",
    "\n",
    "%matplotlib inline\n",
    "np.random.seed(12345)"
   ]
  },
  {
   "cell_type": "code",
   "execution_count": 2,
   "metadata": {
    "collapsed": true
   },
   "outputs": [],
   "source": [
    "def load_and_preprocess(dtup):\n",
    "    \"\"\"\n",
    "    Load and preprocess LFP data.\n",
    "    \"\"\"\n",
    "    # load data\n",
    "    lfp = dbio.fetch_all_such_LFP(dbname, *dtup)\n",
    "\n",
    "    # censor and robustly zscore\n",
    "    lfpmz = lfp.censor().rzscore()\n",
    "    \n",
    "    # mark rows with missing data for later removal\n",
    "    nanrows = np.any(np.isnan(lfpmz), axis=1)\n",
    "    \n",
    "    # take the mean of data across channels\n",
    "    lfpm = lfpmz.mean(axis=1)\n",
    "    lfpm[nanrows] = np.nan\n",
    "    lfpm = phys.LFPset(lfpm)\n",
    "    \n",
    "    return lfpm"
   ]
  },
  {
   "cell_type": "code",
   "execution_count": 3,
   "metadata": {
    "collapsed": true
   },
   "outputs": [],
   "source": [
    "# data location\n",
    "dbname = 'data/bart.hdf5'\n",
    "\n",
    "# get list of (patient, dataset) tuples to plot\n",
    "dsets = pd.read_csv('data/lfp_channel_file.csv', header=None).iloc[:, :2].drop_duplicates()"
   ]
  },
  {
   "cell_type": "code",
   "execution_count": 4,
   "metadata": {
    "collapsed": false
   },
   "outputs": [
    {
     "name": "stdout",
     "output_type": "stream",
     "text": [
      "(17, 2)\n",
      "(18, 1)\n",
      "(20, 1)\n",
      "(22, 1)\n",
      "(23, 1)\n",
      "(30, 1)\n"
     ]
    }
   ],
   "source": [
    "offset_time = 0.0\n",
    "offset_trial = 0\n",
    "lfp_list = []\n",
    "stop_list = []\n",
    "pop_list = []\n",
    "start_list = []\n",
    "stops_free_list = []\n",
    "stops_control_list = []\n",
    "\n",
    "# for this, use only multichannel datasets where we have a good\n",
    "# estimate of mean LFP\n",
    "# (22, 1) is pathological for this analysis\n",
    "for dtup in [(17, 2), (18, 1), (20, 1), (22, 1), (23, 1), (30, 1)]:\n",
    "    print dtup\n",
    "\n",
    "    lfp = load_and_preprocess(dtup)\n",
    "\n",
    "    # get events\n",
    "    evt = dbio.fetch(dbname, 'events', *dtup)\n",
    "    stops = evt['banked'].dropna()\n",
    "    pops = evt['popped'].dropna()\n",
    "    starts = evt['start inflating']\n",
    "    if 'is_control' in evt.columns:\n",
    "        stops_free = evt.query('is_control == False')['banked'].dropna()\n",
    "        stops_control = evt.query('is_control == True')['banked'].dropna()\n",
    "        stops_rewarded = evt.query('trial_type != 4')['banked'].dropna()\n",
    "        #stops_unrewarded = evt.query('trial_type == 4')['banked'].dropna()\n",
    "    else:\n",
    "        stops_free = stops\n",
    "        stops_control = None\n",
    "        stops_rewarded = stops\n",
    "        #stops_unrewarded = None\n",
    "\n",
    "    # now adjust data so that times and trial numbers are unique\n",
    "    lfp.index += offset_time\n",
    "    \n",
    "    stops += offset_time\n",
    "    stops.index += offset_trial\n",
    "    \n",
    "    pops += offset_time\n",
    "    pops.index += offset_trial\n",
    "    \n",
    "    starts += offset_time\n",
    "    starts.index += offset_trial\n",
    "    \n",
    "    stops_free += offset_time\n",
    "    stops_free.index += offset_trial\n",
    "    \n",
    "    if stops_control is not None:\n",
    "        stops_control += offset_time\n",
    "        stops_control.index += offset_trial\n",
    "    \n",
    "    \n",
    "    # get new offsets\n",
    "    offset_time = lfp.index[-1]\n",
    "    offset_trial = max(stops.index[-1], pops.index[-1])\n",
    "    \n",
    "    # append\n",
    "    lfp_list.append(lfp.dataframe)\n",
    "    stop_list.append(stops)\n",
    "    pop_list.append(pops)\n",
    "    start_list.append(starts)\n",
    "    stops_free_list.append(stops_free)\n",
    "    if stops_control is not None:\n",
    "        stops_control_list.append(stops_control)\n",
    "    "
   ]
  },
  {
   "cell_type": "code",
   "execution_count": 5,
   "metadata": {
    "collapsed": false
   },
   "outputs": [],
   "source": [
    "# smoosh everything together \n",
    "lfp = phys.LFPset(pd.concat(lfp_list))\n",
    "stops = pd.concat(stop_list)\n",
    "pops = pd.concat(pop_list)\n",
    "starts = pd.concat(start_list)\n",
    "stops_free = pd.concat(stops_free_list)\n",
    "stops_control = pd.concat(stops_control_list)"
   ]
  },
  {
   "cell_type": "code",
   "execution_count": 6,
   "metadata": {
    "collapsed": true
   },
   "outputs": [],
   "source": [
    "Tpre = -2.5\n",
    "Tpost = 1.5\n",
    "freqs = np.exp(np.linspace(np.log(2.5), np.log(50)))"
   ]
  },
  {
   "cell_type": "markdown",
   "metadata": {},
   "source": [
    "# Contrast stops - pops"
   ]
  },
  {
   "cell_type": "code",
   "execution_count": null,
   "metadata": {
    "collapsed": false
   },
   "outputs": [
    {
     "name": "stdout",
     "output_type": "stream",
     "text": [
      "CPU times: user 5min 24s, sys: 17.2 s, total: 5min 41s\n",
      "Wall time: 5min 41s\n"
     ]
    },
    {
     "data": {
      "image/png": "[encoded data removed]",
      "text/plain": [
       "<matplotlib.figure.Figure at 0x7fdcc7ed0d90>"
      ]
     },
     "metadata": {},
     "output_type": "display_data"
    }
   ],
   "source": [
    "%%time\n",
    "thresh = (0.10, 0.9)\n",
    "mcontr, fig = lfp.significant_time_frequency(0, [stops, pops], \n",
    "                                             Tpre, Tpost, thresh=thresh, \n",
    "                                             freqs=freqs,\n",
    "                                             niter=100, method='wav', \n",
    "                                             doplot=True, rasterized=True, cmap='seismic', clim=(-3, 3))\n",
    "# decorations\n",
    "plt.axvline(x=0, color='k')\n",
    "plt.text(0.05, 45, 'Stop', fontweight='bold')\n",
    "\n",
    "plt.title('Contrast: Stop - Pop')\n",
    "\n",
    "plt.tick_params(axis='x', which='both', top='off');"
   ]
  },
  {
   "cell_type": "markdown",
   "metadata": {},
   "source": [
    "# Control for motor movement\n",
    "\n",
    "Free stops and starts contain the same joystick response."
   ]
  },
  {
   "cell_type": "code",
   "execution_count": null,
   "metadata": {
    "collapsed": false
   },
   "outputs": [],
   "source": [
    "%%time\n",
    "mcontr, fig = lfp.significant_time_frequency(0, [stops_free, starts], \n",
    "                                             Tpre, Tpost, thresh=(0.025, 0.975), \n",
    "                                             freqs=freqs,\n",
    "                                             niter=100, method='wav', \n",
    "                                             doplot=True, clim=(-3, 3), rasterized=True, cmap='seismic')\n",
    "# decorations\n",
    "plt.axvline(x=0, color='k')\n",
    "plt.text(-0.65, 45, 'Movement', fontweight='bold')\n",
    "\n",
    "plt.title('Contrast: Stop Movement - Start Movement')\n",
    "\n",
    "plt.tick_params(axis='x', which='both', top='off');"
   ]
  },
  {
   "cell_type": "markdown",
   "metadata": {},
   "source": [
    "# Contrast voluntary and involuntary stops"
   ]
  },
  {
   "cell_type": "code",
   "execution_count": null,
   "metadata": {
    "collapsed": true
   },
   "outputs": [],
   "source": [
    "mcontr, fig = lfpm.significant_time_frequency(0, [stops_free, stops_control], \n",
    "                                             Tpre, Tpost, thresh=(0.1, 0.9), \n",
    "                                             freqs=freqs,\n",
    "                                             niter=100, method='wav', \n",
    "                                             doplot=True, rasterized=True, cmap='seismic', clim=(-3, 3))\n",
    "# decorations\n",
    "plt.axvline(x=0, color='k')\n",
    "plt.text(0.05, 45, 'Stop', fontweight='bold')\n",
    "\n",
    "plt.title('Contrast: Free Stop - Forced Stop')\n",
    "\n",
    "plt.tick_params(axis='x', which='both', top='off');"
   ]
  },
  {
   "cell_type": "code",
   "execution_count": null,
   "metadata": {
    "collapsed": true
   },
   "outputs": [],
   "source": []
  }
 ],
 "metadata": {
  "kernelspec": {
   "display_name": "Python 2",
   "language": "python",
   "name": "python2"
  },
  "language_info": {
   "codemirror_mode": {
    "name": "ipython",
    "version": 2
   },
   "file_extension": ".py",
   "mimetype": "text/x-python",
   "name": "python",
   "nbconvert_exporter": "python",
   "pygments_lexer": "ipython2",
   "version": "2.7.11"
  }
 },
 "nbformat": 4,
 "nbformat_minor": 0
}
