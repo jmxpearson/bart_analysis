{
 "cells": [
  {
   "cell_type": "markdown",
   "metadata": {},
   "source": [
    "Let's analyze some behavior"
   ]
  },
  {
   "cell_type": "code",
   "execution_count": 1,
   "metadata": {
    "collapsed": false
   },
   "outputs": [],
   "source": [
    "from __future__ import division\n",
    "import numpy as np\n",
    "import pandas as pd\n",
    "import physutils as phys\n",
    "import dbio\n",
    "import os\n",
    "import matplotlib.pyplot as plt\n",
    "import scipy.stats as stats\n",
    "import scipy.optimize as opt\n",
    "%matplotlib inline\n",
    "\n",
    "plt.style.use('ggplot')"
   ]
  },
  {
   "cell_type": "code",
   "execution_count": 2,
   "metadata": {
    "collapsed": false
   },
   "outputs": [],
   "source": [
    "# open data file\n",
    "dbname = os.path.expanduser('data/bartc.hdf5')\n",
    "\n",
    "# get list of all patient, dataset pairs corresponding to behavior\n",
    "evtlist = pd.read_hdf(dbname, '/meta/evlist')\n",
    "\n",
    "# remove subject 10, who did a previous version of the task\n",
    "evtlist = evtlist.query('patient != 10')"
   ]
  },
  {
   "cell_type": "code",
   "execution_count": 3,
   "metadata": {
    "collapsed": false
   },
   "outputs": [],
   "source": [
    "# these are the actual values from the task\n",
    "mean_pop_times = np.array([10, 6.5, 3, 6.5])\n",
    "std_pop_times = 0.3 * mean_pop_times"
   ]
  },
  {
   "cell_type": "code",
   "execution_count": 4,
   "metadata": {
    "collapsed": false
   },
   "outputs": [],
   "source": [
    "dtup = 22, 1\n",
    "\n",
    "evt = dbio.fetch(dbname, 'events', *dtup)"
   ]
  },
  {
   "cell_type": "markdown",
   "metadata": {},
   "source": [
    "# Try some basic analyses"
   ]
  },
  {
   "cell_type": "markdown",
   "metadata": {},
   "source": [
    "## Mean inflate time for stop trials"
   ]
  },
  {
   "cell_type": "code",
   "execution_count": 5,
   "metadata": {
    "collapsed": false
   },
   "outputs": [],
   "source": [
    "stops_only = evt.query(\"result == 'banked'\")"
   ]
  },
  {
   "cell_type": "code",
   "execution_count": 6,
   "metadata": {
    "collapsed": false
   },
   "outputs": [],
   "source": [
    "inflate_time_means = stops_only.groupby('trial_type').inflate_time.mean()\n",
    "inflate_time_stds = stops_only.groupby('trial_type').inflate_time.std()"
   ]
  },
  {
   "cell_type": "markdown",
   "metadata": {},
   "source": [
    "## Plot density of times"
   ]
  },
  {
   "cell_type": "code",
   "execution_count": 7,
   "metadata": {
    "collapsed": false
   },
   "outputs": [
    {
     "data": {
      "image/png": "[encoded data removed]",
      "text/plain": [
       "<matplotlib.figure.Figure at 0x7fb45b8d48d0>"
      ]
     },
     "metadata": {},
     "output_type": "display_data"
    }
   ],
   "source": [
    "stops_only.groupby('trial_type').inflate_time.plot(kind='kde', legend=True);"
   ]
  },
  {
   "cell_type": "markdown",
   "metadata": {},
   "source": [
    "## Get a maximum-likelihood estimate of the mean and standard deviation"
   ]
  },
  {
   "cell_type": "code",
   "execution_count": 8,
   "metadata": {
    "collapsed": false
   },
   "outputs": [],
   "source": [
    "# define a function that takes stop and pop times as arguments and returns a function\n",
    "# giving the log likelihood for a given mean and standard deviation\n",
    "def make_LL_function(stops, pops):\n",
    "    def LLfun(x):\n",
    "        mean, std = x\n",
    "        observed_LL = np.sum(stats.norm.logpdf(stops, loc=mean, scale=std))\n",
    "        cens_LL = np.sum(stats.norm.logsf(pops, loc=mean, scale=std))\n",
    "        return observed_LL + cens_LL\n",
    "    return LLfun"
   ]
  },
  {
   "cell_type": "code",
   "execution_count": 9,
   "metadata": {
    "collapsed": false
   },
   "outputs": [],
   "source": [
    "# now iterate through dataset, calculating ML estimates for each trial type\n",
    "def fit_subj_pars(evt):\n",
    "    allpars = []\n",
    "    for grpname, grpdf in evt.groupby('trial_type'):\n",
    "        stops = grpdf.query(\"result == 'banked'\").inflate_time.values\n",
    "        pops = grpdf.query(\"result == 'popped'\").inflate_time.values\n",
    "\n",
    "        # get log likelihood function\n",
    "        LLfun = make_LL_function(stops, pops)\n",
    "\n",
    "        # minimize -log(likelihood)\n",
    "        objfun = lambda x: -LLfun(x)\n",
    "\n",
    "        # initial guess\n",
    "        grpind = int(grpname) - 1\n",
    "        x0 = [mean_pop_times[grpind], std_pop_times[grpind]]\n",
    "\n",
    "        # minimize\n",
    "        constraints = [{'type': 'ineq', 'fun': lambda x: x[0] > 0},\n",
    "                       {'type': 'ineq', 'fun': lambda x: x[0] < 20}, \n",
    "                       {'type': 'ineq', 'fun': lambda x: x[1] > 0}]\n",
    "        res = opt.minimize(objfun, x0, constraints=constraints)\n",
    "\n",
    "        # package into series\n",
    "        pars = pd.Series(res.x, index=['mean', 'std'], name=grpname)\n",
    "        allpars.append(pars)\n",
    "\n",
    "    return pd.concat(allpars, axis=1)"
   ]
  },
  {
   "cell_type": "code",
   "execution_count": 10,
   "metadata": {
    "collapsed": false
   },
   "outputs": [],
   "source": [
    "subjpars = fit_subj_pars(evt)"
   ]
  },
  {
   "cell_type": "markdown",
   "metadata": {},
   "source": [
    "## Try calculating mean across all subjects, then plot"
   ]
  },
  {
   "cell_type": "code",
   "execution_count": 11,
   "metadata": {
    "collapsed": false
   },
   "outputs": [],
   "source": [
    "# first, do this the naive way, using only stop trials\n",
    "allsubs = []\n",
    "for _, dtup in evtlist.iterrows():\n",
    "    dtup = tuple(dtup)\n",
    "    evt = dbio.fetch(dbname, 'events', *dtup)\n",
    "    \n",
    "    stops_only = evt.query(\"result == 'banked'\")\n",
    "    inflate_time_means = stops_only.groupby('trial_type').inflate_time.mean()\n",
    "    inflate_time_means.name = dtup\n",
    "    \n",
    "    allsubs.append(inflate_time_means)\n",
    "\n",
    "naive_meandat = pd.concat(allsubs, axis=1).transpose()"
   ]
  },
  {
   "cell_type": "code",
   "execution_count": 12,
   "metadata": {
    "collapsed": false
   },
   "outputs": [
    {
     "data": {
      "image/png": "[encoded data removed]",
      "text/plain": [
       "<matplotlib.figure.Figure at 0x7fb45b6f2890>"
      ]
     },
     "metadata": {},
     "output_type": "display_data"
    }
   ],
   "source": [
    "xpos = [1, 2, 3, 4]\n",
    "plt.plot(xpos, mean_pop_times, marker='^', linestyle='none', markersize=10,\n",
    "         color='r');\n",
    "plt.plot(xpos, naive_meandat.values.T, marker='.', linestyle='none', color='k');\n",
    "plt.xlim([0, 5]);\n",
    "plt.ylim([0, 12]);\n",
    "plt.xticks(xpos, ['Low', 'Medium', 'High', 'Control']);\n",
    "plt.xlabel('Risk Condition');\n",
    "plt.ylabel('Per-subject Mean\\nInflate Time (s)');\n",
    "plt.title('Inflate Time vs. Risk');"
   ]
  },
  {
   "cell_type": "code",
   "execution_count": 13,
   "metadata": {
    "collapsed": false
   },
   "outputs": [],
   "source": [
    "# now incorporate censored data\n",
    "allsubs = []\n",
    "for _, dtup in evtlist.iterrows():\n",
    "    dtup = tuple(dtup)\n",
    "    evt = dbio.fetch(dbname, 'events', *dtup)\n",
    "    \n",
    "    subjpars = fit_subj_pars(evt)\n",
    "    \n",
    "    allsubs.append(subjpars.loc['mean'])\n",
    "\n",
    "meandat = pd.concat(allsubs, axis=1).transpose()"
   ]
  },
  {
   "cell_type": "code",
   "execution_count": 14,
   "metadata": {
    "collapsed": false
   },
   "outputs": [
    {
     "data": {
      "image/png": "[encoded data removed]",
      "text/plain": [
       "<matplotlib.figure.Figure at 0x7fb45b625f10>"
      ]
     },
     "metadata": {},
     "output_type": "display_data"
    }
   ],
   "source": [
    "xpos = [1, 2, 3, 4]\n",
    "plt.plot(xpos, mean_pop_times, marker='^', linestyle='none', markersize=10,\n",
    "         color='r');\n",
    "plt.plot(xpos, meandat.values.T, marker='.', linestyle='none', color='k');\n",
    "plt.xlim([0, 5]);\n",
    "plt.ylim([0, 12]);\n",
    "plt.xticks(xpos, ['Low', 'Medium', 'High', 'Control']);\n",
    "plt.xlabel('Risk Condition');\n",
    "plt.ylabel('Per-subject Mean\\nInflate Time (s)');"
   ]
  },
  {
   "cell_type": "code",
   "execution_count": 15,
   "metadata": {
    "collapsed": false
   },
   "outputs": [
    {
     "name": "stdout",
     "output_type": "stream",
     "text": [
      "Difference due to censoring correction:\n"
     ]
    },
    {
     "data": {
      "text/plain": [
       "1    1.931941\n",
       "2    0.102352\n",
       "3    1.235610\n",
       "4   -0.069985\n",
       "dtype: float64"
      ]
     },
     "execution_count": 15,
     "metadata": {},
     "output_type": "execute_result"
    }
   ],
   "source": [
    "print \"Difference due to censoring correction:\"\n",
    "meandat.mean() - naive_meandat.mean()"
   ]
  },
  {
   "cell_type": "markdown",
   "metadata": {},
   "source": [
    "## Get fraction of pop trials for each subject"
   ]
  },
  {
   "cell_type": "code",
   "execution_count": 16,
   "metadata": {
    "collapsed": false
   },
   "outputs": [],
   "source": [
    "def calc_pop_frac(evt):\n",
    "    return evt.query(\"result == 'popped'\").shape[0] / evt.shape[0]"
   ]
  },
  {
   "cell_type": "code",
   "execution_count": 17,
   "metadata": {
    "collapsed": false
   },
   "outputs": [],
   "source": [
    "allsubs = []\n",
    "for _, dtup in evtlist.iterrows():\n",
    "    dtup = tuple(dtup)\n",
    "    evt = dbio.fetch(dbname, 'events', *dtup)\n",
    "    \n",
    "    subjpars = evt.groupby('trial_type').apply(calc_pop_frac)\n",
    "    \n",
    "    allsubs.append(subjpars)\n",
    "\n",
    "popfrac = pd.concat(allsubs, axis=1).transpose()\n",
    "popfrac = popfrac.drop(4, axis=1)  # drop control condition"
   ]
  },
  {
   "cell_type": "code",
   "execution_count": 18,
   "metadata": {
    "collapsed": false
   },
   "outputs": [
    {
     "data": {
      "image/png": "[encoded data removed]",
      "text/plain": [
       "<matplotlib.figure.Figure at 0x7fb45b4c5450>"
      ]
     },
     "metadata": {},
     "output_type": "display_data"
    }
   ],
   "source": [
    "xpos = [1, 2, 3]\n",
    "wid = 0.25\n",
    "#plt.plot(xpos, popfrac.median(), marker='^', linestyle='none', markersize=10, color='r');\n",
    "plt.plot(xpos, popfrac.values.T, marker='.', linestyle='none', color='k');\n",
    "plt.xlim([0, 4]);\n",
    "plt.ylim([0, 1]);\n",
    "plt.xticks(xpos, ['Low', 'Medium', 'High', 'Control']);\n",
    "plt.xlabel('Risk Condition');\n",
    "plt.ylabel('Fraction Pop Trials');"
   ]
  },
  {
   "cell_type": "code",
   "execution_count": null,
   "metadata": {
    "collapsed": false
   },
   "outputs": [],
   "source": []
  }
 ],
 "metadata": {
  "kernelspec": {
   "display_name": "Python 2",
   "language": "python",
   "name": "python2"
  },
  "language_info": {
   "codemirror_mode": {
    "name": "ipython",
    "version": 2
   },
   "file_extension": ".py",
   "mimetype": "text/x-python",
   "name": "python",
   "nbconvert_exporter": "python",
   "pygments_lexer": "ipython2",
   "version": "2.7.9"
  }
 },
 "nbformat": 4,
 "nbformat_minor": 0
}
