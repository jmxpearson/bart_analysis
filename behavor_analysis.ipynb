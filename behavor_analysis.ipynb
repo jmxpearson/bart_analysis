{
 "cells": [
  {
   "cell_type": "markdown",
   "metadata": {},
   "source": [
    "Let's analyze some behavior"
   ]
  },
  {
   "cell_type": "code",
   "execution_count": 1,
   "metadata": {
    "collapsed": false
   },
   "outputs": [],
   "source": [
    "from __future__ import division\n",
    "import numpy as np\n",
    "import pandas as pd\n",
    "import physutils as phys\n",
    "import dbio\n",
    "import os\n",
    "import matplotlib.pyplot as plt\n",
    "import scipy.stats as stats\n",
    "import scipy.optimize as opt\n",
    "%matplotlib inline\n",
    "\n",
    "plt.style.use('ggplot')"
   ]
  },
  {
   "cell_type": "markdown",
   "metadata": {},
   "source": [
    "# Theory"
   ]
  },
  {
   "cell_type": "markdown",
   "metadata": {},
   "source": [
    "We assume for the moment that the pop times are normall distributed $\\tau \\sim \\mathcal{N}(\\mu, \\sigma^2)$, and that the reward for stopping at time $t$ is proportional to the elapsed time: $R = \\alpha t$. Given these assumptions, the expected value of stopping at time $t$ is\n",
    "$$\n",
    "E[R|t] = \\alpha t \\cdot p(\\tau > t) = \\alpha t ( 1 - \\mathrm{CDF}(t))\n",
    "$$\n",
    "where $\\mathrm{CDF}(t)$ is the cumulative distribution function of $\\tau$:\n",
    "$$\n",
    "\\mathrm{CDF}(t) = \\frac{1}{2}\\left[ 1 + \\mathrm{erf}\\left(\\frac{t - \\mu}{\\sqrt{2}\\sigma}\\right) \\right]\n",
    "$$\n",
    "which means that the optimal stop time is given by\n",
    "$$\n",
    "\\frac{d}{dt}E[R|t] = 0 = \\alpha \\left[ 1 - \\mathrm{CDF}(t) - t\\cdot \\mathrm{PDF}(t)\\right]\n",
    "$$"
   ]
  },
  {
   "cell_type": "markdown",
   "metadata": {},
   "source": [
    "We can also plot these reward curves for the experimental values of $\\mu$ and $\\sigma$:"
   ]
  },
  {
   "cell_type": "code",
   "execution_count": 2,
   "metadata": {
    "collapsed": false
   },
   "outputs": [
    {
     "name": "stdout",
     "output_type": "stream",
     "text": [
      "mean: 10.0, std: 3.0, optimal: 7.74\n",
      "mean: 6.5, std: 1.95, optimal: 5.03\n",
      "mean: 3.0, std: 0.9, optimal: 2.32\n"
     ]
    },
    {
     "data": {
      "image/png": "[encoded data removed]",
      "text/plain": [
       "<matplotlib.figure.Figure at 0x106ad0780>"
      ]
     },
     "metadata": {},
     "output_type": "display_data"
    }
   ],
   "source": [
    "# these are the actual values from the task\n",
    "mean_pop_times = np.array([10, 6.5, 3, 6.5])\n",
    "std_pop_times = 0.3 * mean_pop_times\n",
    "\n",
    "tt = np.linspace(0, 15, 5000)  # time axis\n",
    "opt_times = []\n",
    "for idx in range(3):\n",
    "    # plot reward curve as a function of time\n",
    "    mu, sig = mean_pop_times[idx], std_pop_times[idx]\n",
    "    R = tt * stats.norm.sf(tt, loc=mu, scale=sig)\n",
    "    plt.plot(tt, R)\n",
    "    \n",
    "    # calculate optimal reward time\n",
    "    this_opt = tt[np.argmax(R)]  \n",
    "    opt_times.append(this_opt)\n",
    "    \n",
    "    # mark optimal reward times\n",
    "    plt.plot(this_opt, 6.5, marker='v', markersize=10, linestyle='none', color='red')\n",
    "    \n",
    "    print(\"mean: {:2}, std: {:.3}, optimal: {:.3}\".format(mu, sig, this_opt))\n",
    "\n",
    "# for control trials (mean_pop_times[-1]), there is no choice,\n",
    "# so make optimal the actual\n",
    "opt_times.append(mean_pop_times[-1])\n",
    "    \n",
    "plt.ylabel(\"Reward (arb units)\")\n",
    "plt.xlabel(\"Inflate time (s)\")\n",
    "plt.ylim(0, 7);\n",
    "plt.tight_layout()\n",
    "\n",
    "plt.savefig(\"figures/optimal_behavior.svg\")"
   ]
  },
  {
   "cell_type": "markdown",
   "metadata": {},
   "source": [
    "# Load data"
   ]
  },
  {
   "cell_type": "code",
   "execution_count": 3,
   "metadata": {
    "collapsed": false
   },
   "outputs": [],
   "source": [
    "# open data file\n",
    "dbname = os.path.expanduser('data/bart.hdf5')\n",
    "\n",
    "# get list of all patient, dataset pairs corresponding to behavior\n",
    "evtlist = pd.read_hdf(dbname, '/meta/evlist')\n",
    "\n",
    "# remove subject 10, who did a previous version of the task\n",
    "evtlist = evtlist.query('patient != 10')"
   ]
  },
  {
   "cell_type": "markdown",
   "metadata": {},
   "source": [
    "# Try some basic analyses"
   ]
  },
  {
   "cell_type": "markdown",
   "metadata": {},
   "source": [
    "Single subject:"
   ]
  },
  {
   "cell_type": "code",
   "execution_count": 4,
   "metadata": {
    "collapsed": false
   },
   "outputs": [],
   "source": [
    "dtup = 22, 1\n",
    "\n",
    "evt = dbio.fetch(dbname, 'events', *dtup)"
   ]
  },
  {
   "cell_type": "markdown",
   "metadata": {},
   "source": [
    "## Mean inflate time for stop trials"
   ]
  },
  {
   "cell_type": "code",
   "execution_count": 5,
   "metadata": {
    "collapsed": false
   },
   "outputs": [],
   "source": [
    "stops_only = evt.query(\"result == 'banked'\")"
   ]
  },
  {
   "cell_type": "code",
   "execution_count": 6,
   "metadata": {
    "collapsed": false
   },
   "outputs": [],
   "source": [
    "inflate_time_means = stops_only.groupby('trial_type').inflate_time.mean()\n",
    "inflate_time_stds = stops_only.groupby('trial_type').inflate_time.std()"
   ]
  },
  {
   "cell_type": "markdown",
   "metadata": {},
   "source": [
    "## Plot density of times"
   ]
  },
  {
   "cell_type": "code",
   "execution_count": 7,
   "metadata": {
    "collapsed": false
   },
   "outputs": [
    {
     "data": {
      "image/png": "[encoded data removed]",
      "text/plain": [
       "<matplotlib.figure.Figure at 0x11b1f7fd0>"
      ]
     },
     "metadata": {},
     "output_type": "display_data"
    }
   ],
   "source": [
    "stops_only.groupby('trial_type').inflate_time.plot(kind='kde', legend=True);"
   ]
  },
  {
   "cell_type": "markdown",
   "metadata": {},
   "source": [
    "## Get a maximum-likelihood estimate of the mean and standard deviation\n",
    "\n",
    "We assume participants' *intended* stop times are drawn from a normal distribution, but we will not necessarily see the upper tail of this distribution due to balloon popping. The following functions allow us to calculate a maximum likelihood estimate of the paramters of this distribution based on observations from both \"stop\" and \"pop\" trials."
   ]
  },
  {
   "cell_type": "code",
   "execution_count": 8,
   "metadata": {
    "collapsed": false
   },
   "outputs": [],
   "source": [
    "# define a function that takes stop and pop times as arguments and returns a function\n",
    "# giving the log likelihood for a given mean and standard deviation\n",
    "def make_LL_function(stops, pops):\n",
    "    def LLfun(x):\n",
    "        mean, std = x\n",
    "        observed_LL = np.sum(stats.norm.logpdf(stops, loc=mean, scale=std))\n",
    "        cens_LL = np.sum(stats.norm.logsf(pops, loc=mean, scale=std))\n",
    "        return observed_LL + cens_LL\n",
    "    return LLfun"
   ]
  },
  {
   "cell_type": "code",
   "execution_count": 9,
   "metadata": {
    "collapsed": false
   },
   "outputs": [],
   "source": [
    "# now iterate through dataset, calculating ML estimates for each trial type\n",
    "def fit_subj_pars(evt):\n",
    "    allpars = []\n",
    "    for grpname, grpdf in evt.groupby('trial_type'):\n",
    "        stops = grpdf.query(\"result == 'banked'\").inflate_time.values\n",
    "        pops = grpdf.query(\"result == 'popped'\").inflate_time.values\n",
    "\n",
    "        # get log likelihood function\n",
    "        LLfun = make_LL_function(stops, pops)\n",
    "\n",
    "        # minimize -log(likelihood)\n",
    "        objfun = lambda x: -LLfun(x)\n",
    "\n",
    "        # initial guess\n",
    "        grpind = int(grpname) - 1\n",
    "        x0 = [mean_pop_times[grpind], std_pop_times[grpind]]\n",
    "\n",
    "        # minimize\n",
    "        constraints = [{'type': 'ineq', 'fun': lambda x: x[0] > 0},\n",
    "                       {'type': 'ineq', 'fun': lambda x: x[0] < 20}, \n",
    "                       {'type': 'ineq', 'fun': lambda x: x[1] > 0}]\n",
    "        res = opt.minimize(objfun, x0, constraints=constraints)\n",
    "\n",
    "        # package into series\n",
    "        pars = pd.Series(res.x, index=['mean', 'std'], name=grpname)\n",
    "        allpars.append(pars)\n",
    "\n",
    "    return pd.concat(allpars, axis=1)"
   ]
  },
  {
   "cell_type": "code",
   "execution_count": 10,
   "metadata": {
    "collapsed": false
   },
   "outputs": [
    {
     "name": "stderr",
     "output_type": "stream",
     "text": [
      "/Users/jmxp/anaconda/lib/python3.5/site-packages/scipy/stats/_distn_infrastructure.py:872: RuntimeWarning: invalid value encountered in greater_equal\n",
      "  return (self.a <= x) & (x <= self.b)\n",
      "/Users/jmxp/anaconda/lib/python3.5/site-packages/scipy/stats/_distn_infrastructure.py:872: RuntimeWarning: invalid value encountered in less_equal\n",
      "  return (self.a <= x) & (x <= self.b)\n",
      "/Users/jmxp/anaconda/lib/python3.5/site-packages/scipy/stats/_distn_infrastructure.py:875: RuntimeWarning: invalid value encountered in greater\n",
      "  return (self.a < x) & (x < self.b)\n",
      "/Users/jmxp/anaconda/lib/python3.5/site-packages/scipy/stats/_distn_infrastructure.py:875: RuntimeWarning: invalid value encountered in less\n",
      "  return (self.a < x) & (x < self.b)\n",
      "/Users/jmxp/anaconda/lib/python3.5/site-packages/scipy/stats/_distn_infrastructure.py:1858: RuntimeWarning: invalid value encountered in less_equal\n",
      "  cond2 = cond0 & (x <= self.a)\n"
     ]
    }
   ],
   "source": [
    "subjpars = fit_subj_pars(evt)"
   ]
  },
  {
   "cell_type": "markdown",
   "metadata": {},
   "source": [
    "## Behavior vs optimal (first pass)\n",
    "\n",
    "We'll do this the naive way, using only stop trials..."
   ]
  },
  {
   "cell_type": "code",
   "execution_count": 11,
   "metadata": {
    "collapsed": false
   },
   "outputs": [],
   "source": [
    "allsubs = []\n",
    "for _, dtup in evtlist.iterrows():\n",
    "    dtup = tuple(dtup)\n",
    "    evt = dbio.fetch(dbname, 'events', *dtup)\n",
    "    \n",
    "    stops_only = evt.query(\"result == 'banked'\")\n",
    "    inflate_time_means = stops_only.groupby('trial_type').inflate_time.mean()\n",
    "    inflate_time_means.name = dtup\n",
    "    \n",
    "    allsubs.append(inflate_time_means)\n",
    "\n",
    "naive_meandat = pd.concat(allsubs, axis=1).transpose()"
   ]
  },
  {
   "cell_type": "code",
   "execution_count": 12,
   "metadata": {
    "collapsed": false
   },
   "outputs": [
    {
     "data": {
      "image/png": "[encoded data removed]",
      "text/plain": [
       "<matplotlib.figure.Figure at 0x11d947a20>"
      ]
     },
     "metadata": {},
     "output_type": "display_data"
    }
   ],
   "source": [
    "xpos = [1, 2, 3, 4]\n",
    "plt.plot(xpos, opt_times, marker='^', linestyle='none', markersize=10,\n",
    "         color='r');\n",
    "plt.plot(xpos, naive_meandat.values.T, marker='.', linestyle='none', color='k');\n",
    "plt.xlim([0, 5]);\n",
    "plt.ylim([0, 12]);\n",
    "plt.xticks(xpos, ['Low', 'Medium', 'High', 'Control']);\n",
    "plt.xlabel('Risk Condition');\n",
    "plt.ylabel('Per-subject Mean\\nInflate Time (s)');\n",
    "plt.title('Inflate Time vs. Risk');"
   ]
  },
  {
   "cell_type": "markdown",
   "metadata": {},
   "source": [
    "The observed behavior seems well below optimal for the Low and Medium conditions, but our estimates are biased downward, since we only used stop trials. A better approach is to estimate participants' intended mean using both stop and (censored) pop trials."
   ]
  },
  {
   "cell_type": "markdown",
   "metadata": {},
   "source": [
    "# Behavior vs optimal (better)\n",
    "\n",
    "This time, we'll incorporate pop trials, which are censored but still informative:"
   ]
  },
  {
   "cell_type": "code",
   "execution_count": 13,
   "metadata": {
    "collapsed": false
   },
   "outputs": [
    {
     "name": "stderr",
     "output_type": "stream",
     "text": [
      "/Users/jmxp/anaconda/lib/python3.5/site-packages/scipy/stats/_distn_infrastructure.py:872: RuntimeWarning: invalid value encountered in greater_equal\n",
      "  return (self.a <= x) & (x <= self.b)\n",
      "/Users/jmxp/anaconda/lib/python3.5/site-packages/scipy/stats/_distn_infrastructure.py:872: RuntimeWarning: invalid value encountered in less_equal\n",
      "  return (self.a <= x) & (x <= self.b)\n",
      "/Users/jmxp/anaconda/lib/python3.5/site-packages/scipy/stats/_distn_infrastructure.py:875: RuntimeWarning: invalid value encountered in greater\n",
      "  return (self.a < x) & (x < self.b)\n",
      "/Users/jmxp/anaconda/lib/python3.5/site-packages/scipy/stats/_distn_infrastructure.py:875: RuntimeWarning: invalid value encountered in less\n",
      "  return (self.a < x) & (x < self.b)\n",
      "/Users/jmxp/anaconda/lib/python3.5/site-packages/scipy/stats/_distn_infrastructure.py:1858: RuntimeWarning: invalid value encountered in less_equal\n",
      "  cond2 = cond0 & (x <= self.a)\n"
     ]
    }
   ],
   "source": [
    "# now incorporate censored data\n",
    "allsubs = []\n",
    "for _, dtup in evtlist.iterrows():\n",
    "    dtup = tuple(dtup)\n",
    "    evt = dbio.fetch(dbname, 'events', *dtup)\n",
    "    \n",
    "    subjpars = fit_subj_pars(evt)\n",
    "    \n",
    "    allsubs.append(subjpars.loc['mean'])\n",
    "\n",
    "meandat = pd.concat(allsubs, axis=1).transpose()"
   ]
  },
  {
   "cell_type": "code",
   "execution_count": 14,
   "metadata": {
    "collapsed": false
   },
   "outputs": [
    {
     "data": {
      "image/png": "[encoded data removed]",
      "text/plain": [
       "<matplotlib.figure.Figure at 0x11dbb87b8>"
      ]
     },
     "metadata": {},
     "output_type": "display_data"
    }
   ],
   "source": [
    "xpos = [1, 2, 3, 4]\n",
    "plt.plot(xpos, opt_times, marker='^', linestyle='none', markersize=10,\n",
    "         color='r');\n",
    "plt.plot(xpos, meandat.values.T, marker='.', linestyle='none', color='k');\n",
    "plt.xlim([0, 5]);\n",
    "plt.ylim([0, 12]);\n",
    "plt.xticks(xpos, ['Low', 'Medium', 'High', 'Control']);\n",
    "plt.xlabel('Risk Condition');\n",
    "plt.ylabel('Per-subject Mean\\nInflate Time (s)');\n",
    "plt.tight_layout()\n",
    "\n",
    "plt.savefig(\"figures/actual_behavior_vs_optimal.svg\")"
   ]
  },
  {
   "cell_type": "markdown",
   "metadata": {},
   "source": [
    "Note that now, behavior in the Low and Medium conditions is closer to optimal, whereas it seems participants inflate balloons longer than optimal in the High Risk condition."
   ]
  },
  {
   "cell_type": "code",
   "execution_count": 15,
   "metadata": {
    "collapsed": false
   },
   "outputs": [
    {
     "name": "stdout",
     "output_type": "stream",
     "text": [
      "Difference due to censoring correction:\n"
     ]
    },
    {
     "data": {
      "text/plain": [
       "1    1.931941\n",
       "2    0.102352\n",
       "3    1.235610\n",
       "4   -0.069985\n",
       "dtype: float64"
      ]
     },
     "execution_count": 15,
     "metadata": {},
     "output_type": "execute_result"
    }
   ],
   "source": [
    "print(\"Difference due to censoring correction:\")\n",
    "meandat.mean() - naive_meandat.mean()"
   ]
  },
  {
   "cell_type": "markdown",
   "metadata": {},
   "source": [
    "## Get fraction of pop trials for each subject"
   ]
  },
  {
   "cell_type": "code",
   "execution_count": 16,
   "metadata": {
    "collapsed": false
   },
   "outputs": [],
   "source": [
    "def calc_pop_frac(evt):\n",
    "    return evt.query(\"result == 'popped'\").shape[0] / evt.shape[0]"
   ]
  },
  {
   "cell_type": "code",
   "execution_count": 17,
   "metadata": {
    "collapsed": false
   },
   "outputs": [],
   "source": [
    "allsubs = []\n",
    "for _, dtup in evtlist.iterrows():\n",
    "    dtup = tuple(dtup)\n",
    "    evt = dbio.fetch(dbname, 'events', *dtup)\n",
    "    \n",
    "    subjpars = evt.groupby('trial_type').apply(calc_pop_frac)\n",
    "    \n",
    "    allsubs.append(subjpars)\n",
    "\n",
    "popfrac = pd.concat(allsubs, axis=1).transpose()\n",
    "popfrac = popfrac.drop(4, axis=1)  # drop control condition"
   ]
  },
  {
   "cell_type": "code",
   "execution_count": 18,
   "metadata": {
    "collapsed": false
   },
   "outputs": [
    {
     "data": {
      "image/png": "[encoded data removed]",
      "text/plain": [
       "<matplotlib.figure.Figure at 0x11dcdc7b8>"
      ]
     },
     "metadata": {},
     "output_type": "display_data"
    }
   ],
   "source": [
    "xpos = [1, 2, 3]\n",
    "wid = 0.25\n",
    "#plt.plot(xpos, popfrac.median(), marker='^', linestyle='none', markersize=10, color='r');\n",
    "plt.plot(xpos, popfrac.values.T, marker='.', linestyle='none', color='k');\n",
    "plt.xlim([0, 4]);\n",
    "plt.ylim([0, 1]);\n",
    "plt.xticks(xpos, ['Low', 'Medium', 'High', 'Control']);\n",
    "plt.xlabel('Risk Condition');\n",
    "plt.ylabel('Fraction Pop Trials');\n",
    "plt.tight_layout()\n",
    "\n",
    "plt.savefig(\"figures/fraction_pop_trials.svg\")"
   ]
  },
  {
   "cell_type": "code",
   "execution_count": null,
   "metadata": {
    "collapsed": false
   },
   "outputs": [],
   "source": []
  }
 ],
 "metadata": {
  "anaconda-cloud": {},
  "kernelspec": {
   "display_name": "Python [Root]",
   "language": "python",
   "name": "Python [Root]"
  },
  "language_info": {
   "codemirror_mode": {
    "name": "ipython",
    "version": 3
   },
   "file_extension": ".py",
   "mimetype": "text/x-python",
   "name": "python",
   "nbconvert_exporter": "python",
   "pygments_lexer": "ipython3",
   "version": "3.5.2"
  }
 },
 "nbformat": 4,
 "nbformat_minor": 0
}
