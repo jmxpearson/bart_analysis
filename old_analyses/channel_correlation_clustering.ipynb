{
 "cells": [
  {
   "cell_type": "markdown",
   "metadata": {},
   "source": [
    "# Clustering channels by correlation"
   ]
  },
  {
   "cell_type": "markdown",
   "metadata": {},
   "source": [
    "The goal here is to cluster channels in a multichannel recording together based on how correlated they are."
   ]
  },
  {
   "cell_type": "code",
   "execution_count": 1,
   "metadata": {
    "collapsed": false
   },
   "outputs": [],
   "source": [
    "import numpy as np\n",
    "import pandas as pd\n",
    "import physutils as phys\n",
    "import physutils.bootstrap as boot\n",
    "import physutils.tf as tf\n",
    "import matplotlib.pyplot as plt\n",
    "import dbio\n",
    "import scipy.cluster.hierarchy as clus\n",
    "import scipy.spatial.distance as dist\n",
    "%matplotlib inline"
   ]
  },
  {
   "cell_type": "markdown",
   "metadata": {},
   "source": [
    "Grab some LFP data:"
   ]
  },
  {
   "cell_type": "code",
   "execution_count": 2,
   "metadata": {
    "collapsed": false
   },
   "outputs": [],
   "source": [
    "import os\n",
    "dbname = os.path.expanduser('data/bart.hdf5')\n",
    "dtup = 18, 1\n",
    "lfp = dbio.fetch_all_such_LFP(dbname, *dtup)"
   ]
  },
  {
   "cell_type": "markdown",
   "metadata": {},
   "source": [
    "Next order of business: get rid of artifacts."
   ]
  },
  {
   "cell_type": "code",
   "execution_count": 3,
   "metadata": {
    "collapsed": false
   },
   "outputs": [],
   "source": [
    "lfp = lfp.censor()"
   ]
  },
  {
   "cell_type": "code",
   "execution_count": 4,
   "metadata": {
    "collapsed": false
   },
   "outputs": [],
   "source": [
    "lfp = lfp.interpolate().fillna(0)"
   ]
  },
  {
   "cell_type": "code",
   "execution_count": 5,
   "metadata": {
    "collapsed": false
   },
   "outputs": [],
   "source": [
    "# array fed to corrcoef has variables in rows\n",
    "Rmat = np.corrcoef(lfp.values.T)"
   ]
  },
  {
   "cell_type": "code",
   "execution_count": 6,
   "metadata": {
    "collapsed": false
   },
   "outputs": [],
   "source": [
    "D = 1 - Rmat ** 2"
   ]
  },
  {
   "cell_type": "code",
   "execution_count": 7,
   "metadata": {
    "collapsed": false
   },
   "outputs": [
    {
     "data": {
      "image/png": "[encoded data removed]",
      "text/plain": [
       "<matplotlib.figure.Figure at 0x7fd7cda36350>"
      ]
     },
     "metadata": {},
     "output_type": "display_data"
    }
   ],
   "source": [
    "Z = clus.linkage(D)\n",
    "dend = clus.dendrogram(Z);"
   ]
  },
  {
   "cell_type": "code",
   "execution_count": 8,
   "metadata": {
    "collapsed": false
   },
   "outputs": [
    {
     "data": {
      "image/png": "[encoded data removed]",
      "text/plain": [
       "<matplotlib.figure.Figure at 0x7fd79102f550>"
      ]
     },
     "metadata": {},
     "output_type": "display_data"
    }
   ],
   "source": [
    "Rsorted = Rmat[np.ix_(dend['leaves'], dend['leaves'])]\n",
    "plt.matshow(Rsorted);\n",
    "plt.colorbar();"
   ]
  },
  {
   "cell_type": "code",
   "execution_count": 9,
   "metadata": {
    "collapsed": false
   },
   "outputs": [
    {
     "data": {
      "text/plain": [
       "(array([[26],\n",
       "        [ 9],\n",
       "        [10],\n",
       "        [21],\n",
       "        [31],\n",
       "        [ 4],\n",
       "        [18],\n",
       "        [22],\n",
       "        [14],\n",
       "        [16],\n",
       "        [19],\n",
       "        [ 1],\n",
       "        [ 2],\n",
       "        [ 3],\n",
       "        [ 0],\n",
       "        [17],\n",
       "        [20],\n",
       "        [24],\n",
       "        [15],\n",
       "        [ 5],\n",
       "        [25],\n",
       "        [28],\n",
       "        [29],\n",
       "        [23],\n",
       "        [27],\n",
       "        [11],\n",
       "        [30],\n",
       "        [ 6],\n",
       "        [ 8],\n",
       "        [ 7],\n",
       "        [12],\n",
       "        [13]]),\n",
       " array([[26,  9, 10, 21, 31,  4, 18, 22, 14, 16, 19,  1,  2,  3,  0, 17, 20,\n",
       "         24, 15,  5, 25, 28, 29, 23, 27, 11, 30,  6,  8,  7, 12, 13]]))"
      ]
     },
     "execution_count": 9,
     "metadata": {},
     "output_type": "execute_result"
    }
   ],
   "source": [
    "np.ix_(dend['leaves'], dend['leaves'])"
   ]
  },
  {
   "cell_type": "code",
   "execution_count": null,
   "metadata": {
    "collapsed": false
   },
   "outputs": [],
   "source": []
  }
 ],
 "metadata": {
  "kernelspec": {
   "display_name": "Python 2",
   "language": "python",
   "name": "python2"
  },
  "language_info": {
   "codemirror_mode": {
    "name": "ipython",
    "version": 2
   },
   "file_extension": ".py",
   "mimetype": "text/x-python",
   "name": "python",
   "nbconvert_exporter": "python",
   "pygments_lexer": "ipython2",
   "version": "2.7.9"
  }
 },
 "nbformat": 4,
 "nbformat_minor": 0
}
